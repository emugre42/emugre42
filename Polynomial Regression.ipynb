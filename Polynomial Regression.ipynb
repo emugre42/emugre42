{
 "cells": [
  {
   "cell_type": "markdown",
   "id": "a0614b15",
   "metadata": {},
   "source": [
    "# Importing dataset"
   ]
  },
  {
   "cell_type": "code",
   "execution_count": 2,
   "id": "e1892406",
   "metadata": {},
   "outputs": [
    {
     "data": {
      "text/html": [
       "<div>\n",
       "<style scoped>\n",
       "    .dataframe tbody tr th:only-of-type {\n",
       "        vertical-align: middle;\n",
       "    }\n",
       "\n",
       "    .dataframe tbody tr th {\n",
       "        vertical-align: top;\n",
       "    }\n",
       "\n",
       "    .dataframe thead th {\n",
       "        text-align: right;\n",
       "    }\n",
       "</style>\n",
       "<table border=\"1\" class=\"dataframe\">\n",
       "  <thead>\n",
       "    <tr style=\"text-align: right;\">\n",
       "      <th></th>\n",
       "      <th>No.</th>\n",
       "      <th>longitude</th>\n",
       "      <th>latitude</th>\n",
       "      <th>housing_median_age</th>\n",
       "      <th>total_rooms</th>\n",
       "      <th>total_bedrooms</th>\n",
       "      <th>population</th>\n",
       "      <th>households</th>\n",
       "      <th>median_income</th>\n",
       "      <th>median_house_value</th>\n",
       "      <th>ocean_proximity</th>\n",
       "    </tr>\n",
       "  </thead>\n",
       "  <tbody>\n",
       "    <tr>\n",
       "      <th>0</th>\n",
       "      <td>1</td>\n",
       "      <td>-122.12</td>\n",
       "      <td>37.70</td>\n",
       "      <td>17</td>\n",
       "      <td>2488</td>\n",
       "      <td>617.0</td>\n",
       "      <td>1287</td>\n",
       "      <td>538</td>\n",
       "      <td>2.9922</td>\n",
       "      <td>179900</td>\n",
       "      <td>NEAR BAY</td>\n",
       "    </tr>\n",
       "    <tr>\n",
       "      <th>1</th>\n",
       "      <td>2</td>\n",
       "      <td>-122.21</td>\n",
       "      <td>38.10</td>\n",
       "      <td>36</td>\n",
       "      <td>3018</td>\n",
       "      <td>557.0</td>\n",
       "      <td>1445</td>\n",
       "      <td>556</td>\n",
       "      <td>3.8029</td>\n",
       "      <td>129900</td>\n",
       "      <td>NEAR BAY</td>\n",
       "    </tr>\n",
       "    <tr>\n",
       "      <th>2</th>\n",
       "      <td>3</td>\n",
       "      <td>-122.22</td>\n",
       "      <td>38.11</td>\n",
       "      <td>43</td>\n",
       "      <td>1939</td>\n",
       "      <td>353.0</td>\n",
       "      <td>968</td>\n",
       "      <td>392</td>\n",
       "      <td>3.1848</td>\n",
       "      <td>112700</td>\n",
       "      <td>NEAR BAY</td>\n",
       "    </tr>\n",
       "    <tr>\n",
       "      <th>3</th>\n",
       "      <td>4</td>\n",
       "      <td>-122.20</td>\n",
       "      <td>37.78</td>\n",
       "      <td>52</td>\n",
       "      <td>2300</td>\n",
       "      <td>443.0</td>\n",
       "      <td>1225</td>\n",
       "      <td>423</td>\n",
       "      <td>3.5398</td>\n",
       "      <td>158400</td>\n",
       "      <td>NEAR BAY</td>\n",
       "    </tr>\n",
       "    <tr>\n",
       "      <th>4</th>\n",
       "      <td>5</td>\n",
       "      <td>-122.19</td>\n",
       "      <td>37.79</td>\n",
       "      <td>50</td>\n",
       "      <td>954</td>\n",
       "      <td>217.0</td>\n",
       "      <td>546</td>\n",
       "      <td>201</td>\n",
       "      <td>2.6667</td>\n",
       "      <td>172800</td>\n",
       "      <td>NEAR BAY</td>\n",
       "    </tr>\n",
       "  </tbody>\n",
       "</table>\n",
       "</div>"
      ],
      "text/plain": [
       "   No.  longitude  latitude  housing_median_age  total_rooms  total_bedrooms  \\\n",
       "0    1    -122.12     37.70                  17         2488           617.0   \n",
       "1    2    -122.21     38.10                  36         3018           557.0   \n",
       "2    3    -122.22     38.11                  43         1939           353.0   \n",
       "3    4    -122.20     37.78                  52         2300           443.0   \n",
       "4    5    -122.19     37.79                  50          954           217.0   \n",
       "\n",
       "   population  households  median_income  median_house_value ocean_proximity  \n",
       "0        1287         538         2.9922              179900        NEAR BAY  \n",
       "1        1445         556         3.8029              129900        NEAR BAY  \n",
       "2         968         392         3.1848              112700        NEAR BAY  \n",
       "3        1225         423         3.5398              158400        NEAR BAY  \n",
       "4         546         201         2.6667              172800        NEAR BAY  "
      ]
     },
     "execution_count": 2,
     "metadata": {},
     "output_type": "execute_result"
    }
   ],
   "source": [
    "import pandas as pd\n",
    "\n",
    "housing_df = pd.read_csv(\"housing_coursework_entire_dataset_23-24.csv\")\n",
    "housing_df.head()"
   ]
  },
  {
   "cell_type": "markdown",
   "id": "8aae384f",
   "metadata": {},
   "source": [
    "# Data Preparation"
   ]
  },
  {
   "cell_type": "code",
   "execution_count": 6,
   "id": "a33f7548",
   "metadata": {},
   "outputs": [
    {
     "data": {
      "text/plain": [
       "count      1000.000000\n",
       "mean     207767.443000\n",
       "std      113675.832278\n",
       "min       14999.000000\n",
       "25%      119900.000000\n",
       "50%      184350.000000\n",
       "75%      261950.000000\n",
       "max      500001.000000\n",
       "Name: median_house_value, dtype: float64"
      ]
     },
     "execution_count": 6,
     "metadata": {},
     "output_type": "execute_result"
    }
   ],
   "source": [
    "housing_df['median_house_value'].describe()"
   ]
  },
  {
   "cell_type": "code",
   "execution_count": 3,
   "id": "5836aaa9",
   "metadata": {},
   "outputs": [
    {
     "data": {
      "text/plain": [
       "No.                   0\n",
       "longitude             0\n",
       "latitude              0\n",
       "housing_median_age    0\n",
       "total_rooms           0\n",
       "total_bedrooms        9\n",
       "population            0\n",
       "households            0\n",
       "median_income         0\n",
       "median_house_value    0\n",
       "ocean_proximity       2\n",
       "dtype: int64"
      ]
     },
     "execution_count": 3,
     "metadata": {},
     "output_type": "execute_result"
    }
   ],
   "source": [
    "housing_df.isna().sum()"
   ]
  },
  {
   "cell_type": "code",
   "execution_count": 4,
   "id": "3bf1806d",
   "metadata": {},
   "outputs": [
    {
     "data": {
      "text/html": [
       "<div>\n",
       "<style scoped>\n",
       "    .dataframe tbody tr th:only-of-type {\n",
       "        vertical-align: middle;\n",
       "    }\n",
       "\n",
       "    .dataframe tbody tr th {\n",
       "        vertical-align: top;\n",
       "    }\n",
       "\n",
       "    .dataframe thead th {\n",
       "        text-align: right;\n",
       "    }\n",
       "</style>\n",
       "<table border=\"1\" class=\"dataframe\">\n",
       "  <thead>\n",
       "    <tr style=\"text-align: right;\">\n",
       "      <th></th>\n",
       "      <th>No.</th>\n",
       "      <th>longitude</th>\n",
       "      <th>latitude</th>\n",
       "      <th>housing_median_age</th>\n",
       "      <th>total_rooms</th>\n",
       "      <th>total_bedrooms</th>\n",
       "      <th>population</th>\n",
       "      <th>households</th>\n",
       "      <th>median_income</th>\n",
       "      <th>median_house_value</th>\n",
       "      <th>ocean_proximity</th>\n",
       "      <th>ocean_proximity_encoded</th>\n",
       "    </tr>\n",
       "  </thead>\n",
       "  <tbody>\n",
       "    <tr>\n",
       "      <th>0</th>\n",
       "      <td>1</td>\n",
       "      <td>-122.12</td>\n",
       "      <td>37.70</td>\n",
       "      <td>17</td>\n",
       "      <td>2488</td>\n",
       "      <td>617.0</td>\n",
       "      <td>1287</td>\n",
       "      <td>538</td>\n",
       "      <td>2.9922</td>\n",
       "      <td>179900</td>\n",
       "      <td>NEAR BAY</td>\n",
       "      <td>2</td>\n",
       "    </tr>\n",
       "    <tr>\n",
       "      <th>1</th>\n",
       "      <td>2</td>\n",
       "      <td>-122.21</td>\n",
       "      <td>38.10</td>\n",
       "      <td>36</td>\n",
       "      <td>3018</td>\n",
       "      <td>557.0</td>\n",
       "      <td>1445</td>\n",
       "      <td>556</td>\n",
       "      <td>3.8029</td>\n",
       "      <td>129900</td>\n",
       "      <td>NEAR BAY</td>\n",
       "      <td>2</td>\n",
       "    </tr>\n",
       "    <tr>\n",
       "      <th>2</th>\n",
       "      <td>3</td>\n",
       "      <td>-122.22</td>\n",
       "      <td>38.11</td>\n",
       "      <td>43</td>\n",
       "      <td>1939</td>\n",
       "      <td>353.0</td>\n",
       "      <td>968</td>\n",
       "      <td>392</td>\n",
       "      <td>3.1848</td>\n",
       "      <td>112700</td>\n",
       "      <td>NEAR BAY</td>\n",
       "      <td>2</td>\n",
       "    </tr>\n",
       "    <tr>\n",
       "      <th>3</th>\n",
       "      <td>4</td>\n",
       "      <td>-122.20</td>\n",
       "      <td>37.78</td>\n",
       "      <td>52</td>\n",
       "      <td>2300</td>\n",
       "      <td>443.0</td>\n",
       "      <td>1225</td>\n",
       "      <td>423</td>\n",
       "      <td>3.5398</td>\n",
       "      <td>158400</td>\n",
       "      <td>NEAR BAY</td>\n",
       "      <td>2</td>\n",
       "    </tr>\n",
       "    <tr>\n",
       "      <th>4</th>\n",
       "      <td>5</td>\n",
       "      <td>-122.19</td>\n",
       "      <td>37.79</td>\n",
       "      <td>50</td>\n",
       "      <td>954</td>\n",
       "      <td>217.0</td>\n",
       "      <td>546</td>\n",
       "      <td>201</td>\n",
       "      <td>2.6667</td>\n",
       "      <td>172800</td>\n",
       "      <td>NEAR BAY</td>\n",
       "      <td>2</td>\n",
       "    </tr>\n",
       "    <tr>\n",
       "      <th>...</th>\n",
       "      <td>...</td>\n",
       "      <td>...</td>\n",
       "      <td>...</td>\n",
       "      <td>...</td>\n",
       "      <td>...</td>\n",
       "      <td>...</td>\n",
       "      <td>...</td>\n",
       "      <td>...</td>\n",
       "      <td>...</td>\n",
       "      <td>...</td>\n",
       "      <td>...</td>\n",
       "      <td>...</td>\n",
       "    </tr>\n",
       "    <tr>\n",
       "      <th>995</th>\n",
       "      <td>996</td>\n",
       "      <td>-119.30</td>\n",
       "      <td>36.30</td>\n",
       "      <td>14</td>\n",
       "      <td>3023</td>\n",
       "      <td>469.0</td>\n",
       "      <td>1523</td>\n",
       "      <td>492</td>\n",
       "      <td>5.3602</td>\n",
       "      <td>118600</td>\n",
       "      <td>INLAND</td>\n",
       "      <td>1</td>\n",
       "    </tr>\n",
       "    <tr>\n",
       "      <th>996</th>\n",
       "      <td>997</td>\n",
       "      <td>-121.70</td>\n",
       "      <td>38.65</td>\n",
       "      <td>22</td>\n",
       "      <td>1360</td>\n",
       "      <td>282.0</td>\n",
       "      <td>808</td>\n",
       "      <td>229</td>\n",
       "      <td>2.4167</td>\n",
       "      <td>225000</td>\n",
       "      <td>INLAND</td>\n",
       "      <td>1</td>\n",
       "    </tr>\n",
       "    <tr>\n",
       "      <th>997</th>\n",
       "      <td>998</td>\n",
       "      <td>-121.92</td>\n",
       "      <td>38.57</td>\n",
       "      <td>10</td>\n",
       "      <td>1320</td>\n",
       "      <td>246.0</td>\n",
       "      <td>898</td>\n",
       "      <td>228</td>\n",
       "      <td>1.9327</td>\n",
       "      <td>193800</td>\n",
       "      <td>INLAND</td>\n",
       "      <td>1</td>\n",
       "    </tr>\n",
       "    <tr>\n",
       "      <th>998</th>\n",
       "      <td>999</td>\n",
       "      <td>-122.00</td>\n",
       "      <td>38.83</td>\n",
       "      <td>26</td>\n",
       "      <td>272</td>\n",
       "      <td>49.0</td>\n",
       "      <td>194</td>\n",
       "      <td>52</td>\n",
       "      <td>3.4187</td>\n",
       "      <td>98400</td>\n",
       "      <td>INLAND</td>\n",
       "      <td>1</td>\n",
       "    </tr>\n",
       "    <tr>\n",
       "      <th>999</th>\n",
       "      <td>1000</td>\n",
       "      <td>-121.21</td>\n",
       "      <td>39.49</td>\n",
       "      <td>18</td>\n",
       "      <td>697</td>\n",
       "      <td>150.0</td>\n",
       "      <td>356</td>\n",
       "      <td>114</td>\n",
       "      <td>2.5568</td>\n",
       "      <td>77100</td>\n",
       "      <td>INLAND</td>\n",
       "      <td>1</td>\n",
       "    </tr>\n",
       "  </tbody>\n",
       "</table>\n",
       "<p>1000 rows × 12 columns</p>\n",
       "</div>"
      ],
      "text/plain": [
       "      No.  longitude  latitude  housing_median_age  total_rooms  \\\n",
       "0       1    -122.12     37.70                  17         2488   \n",
       "1       2    -122.21     38.10                  36         3018   \n",
       "2       3    -122.22     38.11                  43         1939   \n",
       "3       4    -122.20     37.78                  52         2300   \n",
       "4       5    -122.19     37.79                  50          954   \n",
       "..    ...        ...       ...                 ...          ...   \n",
       "995   996    -119.30     36.30                  14         3023   \n",
       "996   997    -121.70     38.65                  22         1360   \n",
       "997   998    -121.92     38.57                  10         1320   \n",
       "998   999    -122.00     38.83                  26          272   \n",
       "999  1000    -121.21     39.49                  18          697   \n",
       "\n",
       "     total_bedrooms  population  households  median_income  \\\n",
       "0             617.0        1287         538         2.9922   \n",
       "1             557.0        1445         556         3.8029   \n",
       "2             353.0         968         392         3.1848   \n",
       "3             443.0        1225         423         3.5398   \n",
       "4             217.0         546         201         2.6667   \n",
       "..              ...         ...         ...            ...   \n",
       "995           469.0        1523         492         5.3602   \n",
       "996           282.0         808         229         2.4167   \n",
       "997           246.0         898         228         1.9327   \n",
       "998            49.0         194          52         3.4187   \n",
       "999           150.0         356         114         2.5568   \n",
       "\n",
       "     median_house_value ocean_proximity  ocean_proximity_encoded  \n",
       "0                179900        NEAR BAY                        2  \n",
       "1                129900        NEAR BAY                        2  \n",
       "2                112700        NEAR BAY                        2  \n",
       "3                158400        NEAR BAY                        2  \n",
       "4                172800        NEAR BAY                        2  \n",
       "..                  ...             ...                      ...  \n",
       "995              118600          INLAND                        1  \n",
       "996              225000          INLAND                        1  \n",
       "997              193800          INLAND                        1  \n",
       "998               98400          INLAND                        1  \n",
       "999               77100          INLAND                        1  \n",
       "\n",
       "[1000 rows x 12 columns]"
      ]
     },
     "execution_count": 4,
     "metadata": {},
     "output_type": "execute_result"
    }
   ],
   "source": [
    "# encoding categorical data, 'ocean_proximity'\n",
    "from sklearn.preprocessing import LabelEncoder\n",
    "\n",
    "column_name = 'ocean_proximity'\n",
    "label_encoder = LabelEncoder()\n",
    "\n",
    "# Fit and transform the categorical column\n",
    "housing_df[column_name + '_encoded'] = label_encoder.fit_transform(housing_df[column_name])\n",
    "\n",
    "housing_df"
   ]
  },
  {
   "cell_type": "markdown",
   "id": "41841dd2",
   "metadata": {},
   "source": [
    "# Defining Input Features and Target Variable"
   ]
  },
  {
   "cell_type": "code",
   "execution_count": 4,
   "id": "23b25bdf",
   "metadata": {},
   "outputs": [
    {
     "data": {
      "text/html": [
       "<div>\n",
       "<style scoped>\n",
       "    .dataframe tbody tr th:only-of-type {\n",
       "        vertical-align: middle;\n",
       "    }\n",
       "\n",
       "    .dataframe tbody tr th {\n",
       "        vertical-align: top;\n",
       "    }\n",
       "\n",
       "    .dataframe thead th {\n",
       "        text-align: right;\n",
       "    }\n",
       "</style>\n",
       "<table border=\"1\" class=\"dataframe\">\n",
       "  <thead>\n",
       "    <tr style=\"text-align: right;\">\n",
       "      <th></th>\n",
       "      <th>longitude</th>\n",
       "      <th>latitude</th>\n",
       "      <th>housing_median_age</th>\n",
       "      <th>total_rooms</th>\n",
       "      <th>total_bedrooms</th>\n",
       "      <th>population</th>\n",
       "      <th>households</th>\n",
       "      <th>median_income</th>\n",
       "      <th>ocean_proximity_encoded</th>\n",
       "    </tr>\n",
       "  </thead>\n",
       "  <tbody>\n",
       "    <tr>\n",
       "      <th>0</th>\n",
       "      <td>-122.12</td>\n",
       "      <td>37.70</td>\n",
       "      <td>17</td>\n",
       "      <td>2488</td>\n",
       "      <td>617.0</td>\n",
       "      <td>1287</td>\n",
       "      <td>538</td>\n",
       "      <td>2.9922</td>\n",
       "      <td>2</td>\n",
       "    </tr>\n",
       "    <tr>\n",
       "      <th>1</th>\n",
       "      <td>-122.21</td>\n",
       "      <td>38.10</td>\n",
       "      <td>36</td>\n",
       "      <td>3018</td>\n",
       "      <td>557.0</td>\n",
       "      <td>1445</td>\n",
       "      <td>556</td>\n",
       "      <td>3.8029</td>\n",
       "      <td>2</td>\n",
       "    </tr>\n",
       "    <tr>\n",
       "      <th>2</th>\n",
       "      <td>-122.22</td>\n",
       "      <td>38.11</td>\n",
       "      <td>43</td>\n",
       "      <td>1939</td>\n",
       "      <td>353.0</td>\n",
       "      <td>968</td>\n",
       "      <td>392</td>\n",
       "      <td>3.1848</td>\n",
       "      <td>2</td>\n",
       "    </tr>\n",
       "    <tr>\n",
       "      <th>3</th>\n",
       "      <td>-122.20</td>\n",
       "      <td>37.78</td>\n",
       "      <td>52</td>\n",
       "      <td>2300</td>\n",
       "      <td>443.0</td>\n",
       "      <td>1225</td>\n",
       "      <td>423</td>\n",
       "      <td>3.5398</td>\n",
       "      <td>2</td>\n",
       "    </tr>\n",
       "    <tr>\n",
       "      <th>4</th>\n",
       "      <td>-122.19</td>\n",
       "      <td>37.79</td>\n",
       "      <td>50</td>\n",
       "      <td>954</td>\n",
       "      <td>217.0</td>\n",
       "      <td>546</td>\n",
       "      <td>201</td>\n",
       "      <td>2.6667</td>\n",
       "      <td>2</td>\n",
       "    </tr>\n",
       "    <tr>\n",
       "      <th>...</th>\n",
       "      <td>...</td>\n",
       "      <td>...</td>\n",
       "      <td>...</td>\n",
       "      <td>...</td>\n",
       "      <td>...</td>\n",
       "      <td>...</td>\n",
       "      <td>...</td>\n",
       "      <td>...</td>\n",
       "      <td>...</td>\n",
       "    </tr>\n",
       "    <tr>\n",
       "      <th>995</th>\n",
       "      <td>-119.30</td>\n",
       "      <td>36.30</td>\n",
       "      <td>14</td>\n",
       "      <td>3023</td>\n",
       "      <td>469.0</td>\n",
       "      <td>1523</td>\n",
       "      <td>492</td>\n",
       "      <td>5.3602</td>\n",
       "      <td>1</td>\n",
       "    </tr>\n",
       "    <tr>\n",
       "      <th>996</th>\n",
       "      <td>-121.70</td>\n",
       "      <td>38.65</td>\n",
       "      <td>22</td>\n",
       "      <td>1360</td>\n",
       "      <td>282.0</td>\n",
       "      <td>808</td>\n",
       "      <td>229</td>\n",
       "      <td>2.4167</td>\n",
       "      <td>1</td>\n",
       "    </tr>\n",
       "    <tr>\n",
       "      <th>997</th>\n",
       "      <td>-121.92</td>\n",
       "      <td>38.57</td>\n",
       "      <td>10</td>\n",
       "      <td>1320</td>\n",
       "      <td>246.0</td>\n",
       "      <td>898</td>\n",
       "      <td>228</td>\n",
       "      <td>1.9327</td>\n",
       "      <td>1</td>\n",
       "    </tr>\n",
       "    <tr>\n",
       "      <th>998</th>\n",
       "      <td>-122.00</td>\n",
       "      <td>38.83</td>\n",
       "      <td>26</td>\n",
       "      <td>272</td>\n",
       "      <td>49.0</td>\n",
       "      <td>194</td>\n",
       "      <td>52</td>\n",
       "      <td>3.4187</td>\n",
       "      <td>1</td>\n",
       "    </tr>\n",
       "    <tr>\n",
       "      <th>999</th>\n",
       "      <td>-121.21</td>\n",
       "      <td>39.49</td>\n",
       "      <td>18</td>\n",
       "      <td>697</td>\n",
       "      <td>150.0</td>\n",
       "      <td>356</td>\n",
       "      <td>114</td>\n",
       "      <td>2.5568</td>\n",
       "      <td>1</td>\n",
       "    </tr>\n",
       "  </tbody>\n",
       "</table>\n",
       "<p>1000 rows × 9 columns</p>\n",
       "</div>"
      ],
      "text/plain": [
       "     longitude  latitude  housing_median_age  total_rooms  total_bedrooms  \\\n",
       "0      -122.12     37.70                  17         2488           617.0   \n",
       "1      -122.21     38.10                  36         3018           557.0   \n",
       "2      -122.22     38.11                  43         1939           353.0   \n",
       "3      -122.20     37.78                  52         2300           443.0   \n",
       "4      -122.19     37.79                  50          954           217.0   \n",
       "..         ...       ...                 ...          ...             ...   \n",
       "995    -119.30     36.30                  14         3023           469.0   \n",
       "996    -121.70     38.65                  22         1360           282.0   \n",
       "997    -121.92     38.57                  10         1320           246.0   \n",
       "998    -122.00     38.83                  26          272            49.0   \n",
       "999    -121.21     39.49                  18          697           150.0   \n",
       "\n",
       "     population  households  median_income  ocean_proximity_encoded  \n",
       "0          1287         538         2.9922                        2  \n",
       "1          1445         556         3.8029                        2  \n",
       "2           968         392         3.1848                        2  \n",
       "3          1225         423         3.5398                        2  \n",
       "4           546         201         2.6667                        2  \n",
       "..          ...         ...            ...                      ...  \n",
       "995        1523         492         5.3602                        1  \n",
       "996         808         229         2.4167                        1  \n",
       "997         898         228         1.9327                        1  \n",
       "998         194          52         3.4187                        1  \n",
       "999         356         114         2.5568                        1  \n",
       "\n",
       "[1000 rows x 9 columns]"
      ]
     },
     "execution_count": 4,
     "metadata": {},
     "output_type": "execute_result"
    }
   ],
   "source": [
    "x = housing_df.drop(columns = ['No.', 'median_house_value', 'ocean_proximity'])\n",
    "y = housing_df['median_house_value']\n",
    "\n",
    "x"
   ]
  },
  {
   "cell_type": "code",
   "execution_count": 5,
   "id": "89af4bb8",
   "metadata": {},
   "outputs": [
    {
     "data": {
      "text/plain": [
       "longitude                  0\n",
       "latitude                   0\n",
       "housing_median_age         0\n",
       "total_rooms                0\n",
       "total_bedrooms             9\n",
       "population                 0\n",
       "households                 0\n",
       "median_income              0\n",
       "ocean_proximity_encoded    0\n",
       "dtype: int64"
      ]
     },
     "execution_count": 5,
     "metadata": {},
     "output_type": "execute_result"
    }
   ],
   "source": [
    "x.isna().sum()"
   ]
  },
  {
   "cell_type": "markdown",
   "id": "6df2aecd",
   "metadata": {},
   "source": [
    "# Splitting Traing and Test Data"
   ]
  },
  {
   "cell_type": "code",
   "execution_count": 38,
   "id": "1c05bfbf",
   "metadata": {},
   "outputs": [],
   "source": [
    "from sklearn.model_selection import train_test_split\n",
    "from sklearn.impute import SimpleImputer\n",
    "\n",
    "x_train, x_test, y_train, y_test = train_test_split(x, y, test_size = 0.2, random_state = 0)\n",
    "\n",
    "\n",
    "#imputation method is used to replace the NaN values with median in this case\n",
    "imputer = SimpleImputer(strategy='mean')\n",
    "x_train_imputed = imputer.fit_transform(x_train)\n",
    "x_test_imputed = imputer.transform(x_test)"
   ]
  },
  {
   "cell_type": "markdown",
   "id": "41fa0edb",
   "metadata": {},
   "source": [
    "# Scaling Data"
   ]
  },
  {
   "cell_type": "code",
   "execution_count": 39,
   "id": "e3027ce3",
   "metadata": {},
   "outputs": [],
   "source": [
    "import numpy as np\n",
    "from sklearn.preprocessing import StandardScaler\n",
    "\n",
    "scaler = StandardScaler()\n",
    "\n",
    "# Use StandardScaler to transform the combined arrays\n",
    "x_train_scaler = scaler.fit_transform(x_train_imputed)\n",
    "x_test_scaler = scaler.transform(x_test_imputed)"
   ]
  },
  {
   "cell_type": "markdown",
   "id": "d51748c9",
   "metadata": {},
   "source": [
    "# Model Development"
   ]
  },
  {
   "cell_type": "code",
   "execution_count": 55,
   "id": "e21f6bda",
   "metadata": {},
   "outputs": [],
   "source": [
    "from sklearn.linear_model import LinearRegression\n",
    "lr = LinearRegression()"
   ]
  },
  {
   "cell_type": "code",
   "execution_count": 56,
   "id": "f41f47bd",
   "metadata": {},
   "outputs": [
    {
     "data": {
      "text/html": [
       "<style>#sk-container-id-8 {color: black;}#sk-container-id-8 pre{padding: 0;}#sk-container-id-8 div.sk-toggleable {background-color: white;}#sk-container-id-8 label.sk-toggleable__label {cursor: pointer;display: block;width: 100%;margin-bottom: 0;padding: 0.3em;box-sizing: border-box;text-align: center;}#sk-container-id-8 label.sk-toggleable__label-arrow:before {content: \"▸\";float: left;margin-right: 0.25em;color: #696969;}#sk-container-id-8 label.sk-toggleable__label-arrow:hover:before {color: black;}#sk-container-id-8 div.sk-estimator:hover label.sk-toggleable__label-arrow:before {color: black;}#sk-container-id-8 div.sk-toggleable__content {max-height: 0;max-width: 0;overflow: hidden;text-align: left;background-color: #f0f8ff;}#sk-container-id-8 div.sk-toggleable__content pre {margin: 0.2em;color: black;border-radius: 0.25em;background-color: #f0f8ff;}#sk-container-id-8 input.sk-toggleable__control:checked~div.sk-toggleable__content {max-height: 200px;max-width: 100%;overflow: auto;}#sk-container-id-8 input.sk-toggleable__control:checked~label.sk-toggleable__label-arrow:before {content: \"▾\";}#sk-container-id-8 div.sk-estimator input.sk-toggleable__control:checked~label.sk-toggleable__label {background-color: #d4ebff;}#sk-container-id-8 div.sk-label input.sk-toggleable__control:checked~label.sk-toggleable__label {background-color: #d4ebff;}#sk-container-id-8 input.sk-hidden--visually {border: 0;clip: rect(1px 1px 1px 1px);clip: rect(1px, 1px, 1px, 1px);height: 1px;margin: -1px;overflow: hidden;padding: 0;position: absolute;width: 1px;}#sk-container-id-8 div.sk-estimator {font-family: monospace;background-color: #f0f8ff;border: 1px dotted black;border-radius: 0.25em;box-sizing: border-box;margin-bottom: 0.5em;}#sk-container-id-8 div.sk-estimator:hover {background-color: #d4ebff;}#sk-container-id-8 div.sk-parallel-item::after {content: \"\";width: 100%;border-bottom: 1px solid gray;flex-grow: 1;}#sk-container-id-8 div.sk-label:hover label.sk-toggleable__label {background-color: #d4ebff;}#sk-container-id-8 div.sk-serial::before {content: \"\";position: absolute;border-left: 1px solid gray;box-sizing: border-box;top: 0;bottom: 0;left: 50%;z-index: 0;}#sk-container-id-8 div.sk-serial {display: flex;flex-direction: column;align-items: center;background-color: white;padding-right: 0.2em;padding-left: 0.2em;position: relative;}#sk-container-id-8 div.sk-item {position: relative;z-index: 1;}#sk-container-id-8 div.sk-parallel {display: flex;align-items: stretch;justify-content: center;background-color: white;position: relative;}#sk-container-id-8 div.sk-item::before, #sk-container-id-8 div.sk-parallel-item::before {content: \"\";position: absolute;border-left: 1px solid gray;box-sizing: border-box;top: 0;bottom: 0;left: 50%;z-index: -1;}#sk-container-id-8 div.sk-parallel-item {display: flex;flex-direction: column;z-index: 1;position: relative;background-color: white;}#sk-container-id-8 div.sk-parallel-item:first-child::after {align-self: flex-end;width: 50%;}#sk-container-id-8 div.sk-parallel-item:last-child::after {align-self: flex-start;width: 50%;}#sk-container-id-8 div.sk-parallel-item:only-child::after {width: 0;}#sk-container-id-8 div.sk-dashed-wrapped {border: 1px dashed gray;margin: 0 0.4em 0.5em 0.4em;box-sizing: border-box;padding-bottom: 0.4em;background-color: white;}#sk-container-id-8 div.sk-label label {font-family: monospace;font-weight: bold;display: inline-block;line-height: 1.2em;}#sk-container-id-8 div.sk-label-container {text-align: center;}#sk-container-id-8 div.sk-container {/* jupyter's `normalize.less` sets `[hidden] { display: none; }` but bootstrap.min.css set `[hidden] { display: none !important; }` so we also need the `!important` here to be able to override the default hidden behavior on the sphinx rendered scikit-learn.org. See: https://github.com/scikit-learn/scikit-learn/issues/21755 */display: inline-block !important;position: relative;}#sk-container-id-8 div.sk-text-repr-fallback {display: none;}</style><div id=\"sk-container-id-8\" class=\"sk-top-container\"><div class=\"sk-text-repr-fallback\"><pre>LinearRegression()</pre><b>In a Jupyter environment, please rerun this cell to show the HTML representation or trust the notebook. <br />On GitHub, the HTML representation is unable to render, please try loading this page with nbviewer.org.</b></div><div class=\"sk-container\" hidden><div class=\"sk-item\"><div class=\"sk-estimator sk-toggleable\"><input class=\"sk-toggleable__control sk-hidden--visually\" id=\"sk-estimator-id-8\" type=\"checkbox\" checked><label for=\"sk-estimator-id-8\" class=\"sk-toggleable__label sk-toggleable__label-arrow\">LinearRegression</label><div class=\"sk-toggleable__content\"><pre>LinearRegression()</pre></div></div></div></div></div>"
      ],
      "text/plain": [
       "LinearRegression()"
      ]
     },
     "execution_count": 56,
     "metadata": {},
     "output_type": "execute_result"
    }
   ],
   "source": [
    "from sklearn.preprocessing import PolynomialFeatures\n",
    "\n",
    "polynomial = PolynomialFeatures(degree = 5)\n",
    "x_polynomial_train = polynomial.fit_transform(x_train_scaler)\n",
    "x_polynomial_test = polynomial.transform(x_test_scaler)\n",
    "polynomial.fit(x_polynomial_train, y_train)\n",
    "lr.fit(x_polynomial_train, y_train)"
   ]
  },
  {
   "cell_type": "code",
   "execution_count": 57,
   "id": "68f86f4a",
   "metadata": {},
   "outputs": [
    {
     "data": {
      "text/plain": [
       "array([-1.38432516e-03, -3.05365973e+05, -3.82477063e+05, ...,\n",
       "        1.33578559e+05, -1.53330766e+05, -2.47582347e+05])"
      ]
     },
     "execution_count": 57,
     "metadata": {},
     "output_type": "execute_result"
    }
   ],
   "source": [
    "lr.coef_ "
   ]
  },
  {
   "cell_type": "code",
   "execution_count": 58,
   "id": "5cc366f0",
   "metadata": {},
   "outputs": [
    {
     "data": {
      "text/plain": [
       "111818.86844388963"
      ]
     },
     "execution_count": 58,
     "metadata": {},
     "output_type": "execute_result"
    }
   ],
   "source": [
    "lr.intercept_"
   ]
  },
  {
   "cell_type": "code",
   "execution_count": 59,
   "id": "eeb334d4",
   "metadata": {},
   "outputs": [],
   "source": [
    "y_pred = lr.predict(x_polynomial_test)"
   ]
  },
  {
   "cell_type": "markdown",
   "id": "a6ffe2de",
   "metadata": {},
   "source": [
    "# Evaluation"
   ]
  },
  {
   "cell_type": "code",
   "execution_count": 60,
   "id": "fa1ec911",
   "metadata": {},
   "outputs": [
    {
     "name": "stdout",
     "output_type": "stream",
     "text": [
      "MSE:  531872898721535.4\n",
      "MAE:  2733235.682651264\n",
      "RMSE: 23062369.755112663\n",
      "R2:  -46201.768107371216\n"
     ]
    }
   ],
   "source": [
    "from sklearn.metrics import mean_squared_error, mean_absolute_error, r2_score \n",
    "import math\n",
    "print(\"MSE: \", mean_squared_error(y_test, y_pred))\n",
    "print(\"MAE: \", mean_absolute_error(y_test, y_pred))\n",
    "print(\"RMSE:\", math.sqrt(mean_squared_error(y_test, y_pred)))\n",
    "print(\"R2: \", r2_score(y_test, y_pred))"
   ]
  },
  {
   "cell_type": "code",
   "execution_count": 61,
   "id": "053267fe",
   "metadata": {},
   "outputs": [
    {
     "name": "stdout",
     "output_type": "stream",
     "text": [
      "MSE:  1.0293580710364747e-11\n",
      "MAE:  6.108313027652912e-07\n",
      "RMSE: 3.208361062967313e-06\n",
      "R2:  1.0\n"
     ]
    }
   ],
   "source": [
    "y_pred_train = lr.predict(x_polynomial_train)\n",
    "\n",
    "print(\"MSE: \", mean_squared_error(y_train, y_pred_train))\n",
    "print(\"MAE: \", mean_absolute_error(y_train, y_pred_train))\n",
    "print(\"RMSE:\", math.sqrt(mean_squared_error(y_train, y_pred_train)))\n",
    "print(\"R2: \", r2_score(y_train, y_pred_train))"
   ]
  },
  {
   "cell_type": "markdown",
   "id": "b7b69b1b",
   "metadata": {},
   "source": [
    "Overfitting occured in the model where the degree is 5 so there are significant differences between the test data and train data"
   ]
  },
  {
   "cell_type": "markdown",
   "id": "6623777d",
   "metadata": {},
   "source": [
    "# Hyperparameter Tuning "
   ]
  },
  {
   "cell_type": "code",
   "execution_count": 62,
   "id": "926654f2",
   "metadata": {},
   "outputs": [
    {
     "data": {
      "text/html": [
       "<style>#sk-container-id-9 {color: black;}#sk-container-id-9 pre{padding: 0;}#sk-container-id-9 div.sk-toggleable {background-color: white;}#sk-container-id-9 label.sk-toggleable__label {cursor: pointer;display: block;width: 100%;margin-bottom: 0;padding: 0.3em;box-sizing: border-box;text-align: center;}#sk-container-id-9 label.sk-toggleable__label-arrow:before {content: \"▸\";float: left;margin-right: 0.25em;color: #696969;}#sk-container-id-9 label.sk-toggleable__label-arrow:hover:before {color: black;}#sk-container-id-9 div.sk-estimator:hover label.sk-toggleable__label-arrow:before {color: black;}#sk-container-id-9 div.sk-toggleable__content {max-height: 0;max-width: 0;overflow: hidden;text-align: left;background-color: #f0f8ff;}#sk-container-id-9 div.sk-toggleable__content pre {margin: 0.2em;color: black;border-radius: 0.25em;background-color: #f0f8ff;}#sk-container-id-9 input.sk-toggleable__control:checked~div.sk-toggleable__content {max-height: 200px;max-width: 100%;overflow: auto;}#sk-container-id-9 input.sk-toggleable__control:checked~label.sk-toggleable__label-arrow:before {content: \"▾\";}#sk-container-id-9 div.sk-estimator input.sk-toggleable__control:checked~label.sk-toggleable__label {background-color: #d4ebff;}#sk-container-id-9 div.sk-label input.sk-toggleable__control:checked~label.sk-toggleable__label {background-color: #d4ebff;}#sk-container-id-9 input.sk-hidden--visually {border: 0;clip: rect(1px 1px 1px 1px);clip: rect(1px, 1px, 1px, 1px);height: 1px;margin: -1px;overflow: hidden;padding: 0;position: absolute;width: 1px;}#sk-container-id-9 div.sk-estimator {font-family: monospace;background-color: #f0f8ff;border: 1px dotted black;border-radius: 0.25em;box-sizing: border-box;margin-bottom: 0.5em;}#sk-container-id-9 div.sk-estimator:hover {background-color: #d4ebff;}#sk-container-id-9 div.sk-parallel-item::after {content: \"\";width: 100%;border-bottom: 1px solid gray;flex-grow: 1;}#sk-container-id-9 div.sk-label:hover label.sk-toggleable__label {background-color: #d4ebff;}#sk-container-id-9 div.sk-serial::before {content: \"\";position: absolute;border-left: 1px solid gray;box-sizing: border-box;top: 0;bottom: 0;left: 50%;z-index: 0;}#sk-container-id-9 div.sk-serial {display: flex;flex-direction: column;align-items: center;background-color: white;padding-right: 0.2em;padding-left: 0.2em;position: relative;}#sk-container-id-9 div.sk-item {position: relative;z-index: 1;}#sk-container-id-9 div.sk-parallel {display: flex;align-items: stretch;justify-content: center;background-color: white;position: relative;}#sk-container-id-9 div.sk-item::before, #sk-container-id-9 div.sk-parallel-item::before {content: \"\";position: absolute;border-left: 1px solid gray;box-sizing: border-box;top: 0;bottom: 0;left: 50%;z-index: -1;}#sk-container-id-9 div.sk-parallel-item {display: flex;flex-direction: column;z-index: 1;position: relative;background-color: white;}#sk-container-id-9 div.sk-parallel-item:first-child::after {align-self: flex-end;width: 50%;}#sk-container-id-9 div.sk-parallel-item:last-child::after {align-self: flex-start;width: 50%;}#sk-container-id-9 div.sk-parallel-item:only-child::after {width: 0;}#sk-container-id-9 div.sk-dashed-wrapped {border: 1px dashed gray;margin: 0 0.4em 0.5em 0.4em;box-sizing: border-box;padding-bottom: 0.4em;background-color: white;}#sk-container-id-9 div.sk-label label {font-family: monospace;font-weight: bold;display: inline-block;line-height: 1.2em;}#sk-container-id-9 div.sk-label-container {text-align: center;}#sk-container-id-9 div.sk-container {/* jupyter's `normalize.less` sets `[hidden] { display: none; }` but bootstrap.min.css set `[hidden] { display: none !important; }` so we also need the `!important` here to be able to override the default hidden behavior on the sphinx rendered scikit-learn.org. See: https://github.com/scikit-learn/scikit-learn/issues/21755 */display: inline-block !important;position: relative;}#sk-container-id-9 div.sk-text-repr-fallback {display: none;}</style><div id=\"sk-container-id-9\" class=\"sk-top-container\"><div class=\"sk-text-repr-fallback\"><pre>LinearRegression()</pre><b>In a Jupyter environment, please rerun this cell to show the HTML representation or trust the notebook. <br />On GitHub, the HTML representation is unable to render, please try loading this page with nbviewer.org.</b></div><div class=\"sk-container\" hidden><div class=\"sk-item\"><div class=\"sk-estimator sk-toggleable\"><input class=\"sk-toggleable__control sk-hidden--visually\" id=\"sk-estimator-id-9\" type=\"checkbox\" checked><label for=\"sk-estimator-id-9\" class=\"sk-toggleable__label sk-toggleable__label-arrow\">LinearRegression</label><div class=\"sk-toggleable__content\"><pre>LinearRegression()</pre></div></div></div></div></div>"
      ],
      "text/plain": [
       "LinearRegression()"
      ]
     },
     "execution_count": 62,
     "metadata": {},
     "output_type": "execute_result"
    }
   ],
   "source": [
    "# Another model creation with no degree value\n",
    "polynomial = PolynomialFeatures(degree = 2)\n",
    "x_polynomial_train = polynomial.fit_transform(x_train_scaler)\n",
    "x_polynomial_test = polynomial.transform(x_test_scaler)\n",
    "polynomial.fit(x_polynomial_train, y_train)\n",
    "lr = LinearRegression()\n",
    "lr.fit(x_polynomial_train, y_train)"
   ]
  },
  {
   "cell_type": "code",
   "execution_count": 63,
   "id": "bad92ec2",
   "metadata": {},
   "outputs": [
    {
     "data": {
      "text/plain": [
       "array([-1.33890200e-08, -1.03139725e+05, -1.11145887e+05,  1.38640952e+04,\n",
       "       -3.21723493e+04,  8.02438426e+04, -1.11281479e+05,  5.98662054e+04,\n",
       "        7.85032930e+04, -1.64490699e+04,  1.99130620e+04,  5.19543813e+04,\n",
       "       -1.87645313e+04,  2.93503602e+04, -2.23558344e+04,  4.17785208e+04,\n",
       "       -3.96060465e+04, -3.21462746e+04,  1.65736315e+03,  2.80629179e+04,\n",
       "       -2.47175664e+04,  4.54364078e+04, -4.57701494e+04,  3.90852239e+04,\n",
       "       -2.80212326e+04, -3.86327205e+04,  2.87841301e+03,  2.98980082e+03,\n",
       "       -5.26205602e+02, -5.22589538e+03, -5.19627141e+04,  6.04429819e+04,\n",
       "        3.18507778e+03,  3.10213911e+03, -5.63672582e+02,  9.70547465e+03,\n",
       "       -2.84978049e+04,  3.10368171e+04,  5.01248834e+04, -2.20724162e+03,\n",
       "       -2.68102592e+04, -8.54242237e+04,  1.11723403e+05,  1.65273950e+04,\n",
       "        1.23840895e+04,  1.30697373e+04,  8.90867193e+04, -5.85774103e+04,\n",
       "        1.10124946e+04, -1.12718404e+05, -8.15765221e+03, -1.76661210e+04,\n",
       "       -8.30603881e+03, -5.22276066e+02,  7.69316371e+03])"
      ]
     },
     "execution_count": 63,
     "metadata": {},
     "output_type": "execute_result"
    }
   ],
   "source": [
    "lr.coef_ "
   ]
  },
  {
   "cell_type": "code",
   "execution_count": 64,
   "id": "410434fd",
   "metadata": {},
   "outputs": [
    {
     "data": {
      "text/plain": [
       "190211.65537697054"
      ]
     },
     "execution_count": 64,
     "metadata": {},
     "output_type": "execute_result"
    }
   ],
   "source": [
    "lr.intercept_"
   ]
  },
  {
   "cell_type": "code",
   "execution_count": 65,
   "id": "e05100b9",
   "metadata": {},
   "outputs": [
    {
     "name": "stdout",
     "output_type": "stream",
     "text": [
      "MSE:  3915674532.211122\n",
      "MAE:  45835.042853094084\n",
      "RMSE: 62575.35083570145\n",
      "R2:  0.6598529407485215\n"
     ]
    }
   ],
   "source": [
    "y_pred = lr.predict(x_polynomial_test)\n",
    "\n",
    "print(\"MSE: \", mean_squared_error(y_test, y_pred))\n",
    "print(\"MAE: \", mean_absolute_error(y_test, y_pred))\n",
    "print(\"RMSE:\", math.sqrt(mean_squared_error(y_test, y_pred)))\n",
    "print(\"R2: \", r2_score(y_test, y_pred))"
   ]
  },
  {
   "cell_type": "code",
   "execution_count": 66,
   "id": "7fb16ec5",
   "metadata": {},
   "outputs": [
    {
     "name": "stdout",
     "output_type": "stream",
     "text": [
      "MSE:  3552711857.8425145\n",
      "MAE:  43371.325527227746\n",
      "RMSE: 59604.62950008593\n",
      "R2:  0.7319110059380254\n"
     ]
    }
   ],
   "source": [
    "y_pred_train = lr.predict(x_polynomial_train)\n",
    "\n",
    "print(\"MSE: \", mean_squared_error(y_train, y_pred_train))\n",
    "print(\"MAE: \", mean_absolute_error(y_train, y_pred_train))\n",
    "print(\"RMSE:\", math.sqrt(mean_squared_error(y_train, y_pred_train)))\n",
    "print(\"R2: \", r2_score(y_train, y_pred_train))"
   ]
  },
  {
   "cell_type": "markdown",
   "id": "cefee394",
   "metadata": {},
   "source": [
    "When 2 is given as a degree , the model made a robust fit so no such difference between the train and test data"
   ]
  },
  {
   "cell_type": "markdown",
   "id": "229503ab",
   "metadata": {},
   "source": [
    "# Plotting the Result"
   ]
  },
  {
   "cell_type": "code",
   "execution_count": 67,
   "id": "30995b08",
   "metadata": {},
   "outputs": [
    {
     "data": {
      "text/plain": [
       "Text(0.5, 1.0, 'Actual vs Predicted')"
      ]
     },
     "execution_count": 67,
     "metadata": {},
     "output_type": "execute_result"
    },
    {
     "data": {
      "image/png": "[encoded data removed]",
      "text/plain": [
       "<Figure size 1500x1000 with 1 Axes>"
      ]
     },
     "metadata": {},
     "output_type": "display_data"
    }
   ],
   "source": [
    "import matplotlib.pyplot as plt\n",
    "\n",
    "plt.figure(figsize = (15, 10))\n",
    "plt.scatter(y_test, y_pred)\n",
    "plt.xlabel('Actual')\n",
    "plt.ylabel('Predicted')\n",
    "\n",
    "plt.title('Actual vs Predicted')"
   ]
  },
  {
   "cell_type": "code",
   "execution_count": null,
   "id": "b1c145bb",
   "metadata": {},
   "outputs": [],
   "source": []
  }
 ],
 "metadata": {
  "kernelspec": {
   "display_name": "Python 3 (ipykernel)",
   "language": "python",
   "name": "python3"
  },
  "language_info": {
   "codemirror_mode": {
    "name": "ipython",
    "version": 3
   },
   "file_extension": ".py",
   "mimetype": "text/x-python",
   "name": "python",
   "nbconvert_exporter": "python",
   "pygments_lexer": "ipython3",
   "version": "3.11.4"
  }
 },
 "nbformat": 4,
 "nbformat_minor": 5
}
