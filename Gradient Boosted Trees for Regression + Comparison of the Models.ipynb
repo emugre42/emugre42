{
 "cells": [
  {
   "cell_type": "markdown",
   "id": "c7ce3b80",
   "metadata": {},
   "source": [
    "# Libraries"
   ]
  },
  {
   "cell_type": "code",
   "execution_count": 1,
   "id": "ca70390c",
   "metadata": {},
   "outputs": [],
   "source": [
    "import pandas as pd\n",
    "import warnings\n",
    "import seaborn as sns\n",
    "import numpy as np\n",
    "\n",
    "warnings.filterwarnings(\"ignore\")"
   ]
  },
  {
   "cell_type": "markdown",
   "id": "0e8c50c3",
   "metadata": {},
   "source": [
    "# Importing Data"
   ]
  },
  {
   "cell_type": "code",
   "execution_count": 2,
   "id": "88f2727b",
   "metadata": {},
   "outputs": [
    {
     "data": {
      "text/html": [
       "<div>\n",
       "<style scoped>\n",
       "    .dataframe tbody tr th:only-of-type {\n",
       "        vertical-align: middle;\n",
       "    }\n",
       "\n",
       "    .dataframe tbody tr th {\n",
       "        vertical-align: top;\n",
       "    }\n",
       "\n",
       "    .dataframe thead th {\n",
       "        text-align: right;\n",
       "    }\n",
       "</style>\n",
       "<table border=\"1\" class=\"dataframe\">\n",
       "  <thead>\n",
       "    <tr style=\"text-align: right;\">\n",
       "      <th></th>\n",
       "      <th>No.</th>\n",
       "      <th>longitude</th>\n",
       "      <th>latitude</th>\n",
       "      <th>housing_median_age</th>\n",
       "      <th>total_rooms</th>\n",
       "      <th>total_bedrooms</th>\n",
       "      <th>population</th>\n",
       "      <th>households</th>\n",
       "      <th>median_income</th>\n",
       "      <th>median_house_value</th>\n",
       "      <th>ocean_proximity</th>\n",
       "    </tr>\n",
       "  </thead>\n",
       "  <tbody>\n",
       "    <tr>\n",
       "      <th>0</th>\n",
       "      <td>1</td>\n",
       "      <td>-122.12</td>\n",
       "      <td>37.70</td>\n",
       "      <td>17</td>\n",
       "      <td>2488</td>\n",
       "      <td>617.0</td>\n",
       "      <td>1287</td>\n",
       "      <td>538</td>\n",
       "      <td>2.9922</td>\n",
       "      <td>179900</td>\n",
       "      <td>NEAR BAY</td>\n",
       "    </tr>\n",
       "    <tr>\n",
       "      <th>1</th>\n",
       "      <td>2</td>\n",
       "      <td>-122.21</td>\n",
       "      <td>38.10</td>\n",
       "      <td>36</td>\n",
       "      <td>3018</td>\n",
       "      <td>557.0</td>\n",
       "      <td>1445</td>\n",
       "      <td>556</td>\n",
       "      <td>3.8029</td>\n",
       "      <td>129900</td>\n",
       "      <td>NEAR BAY</td>\n",
       "    </tr>\n",
       "    <tr>\n",
       "      <th>2</th>\n",
       "      <td>3</td>\n",
       "      <td>-122.22</td>\n",
       "      <td>38.11</td>\n",
       "      <td>43</td>\n",
       "      <td>1939</td>\n",
       "      <td>353.0</td>\n",
       "      <td>968</td>\n",
       "      <td>392</td>\n",
       "      <td>3.1848</td>\n",
       "      <td>112700</td>\n",
       "      <td>NEAR BAY</td>\n",
       "    </tr>\n",
       "    <tr>\n",
       "      <th>3</th>\n",
       "      <td>4</td>\n",
       "      <td>-122.20</td>\n",
       "      <td>37.78</td>\n",
       "      <td>52</td>\n",
       "      <td>2300</td>\n",
       "      <td>443.0</td>\n",
       "      <td>1225</td>\n",
       "      <td>423</td>\n",
       "      <td>3.5398</td>\n",
       "      <td>158400</td>\n",
       "      <td>NEAR BAY</td>\n",
       "    </tr>\n",
       "    <tr>\n",
       "      <th>4</th>\n",
       "      <td>5</td>\n",
       "      <td>-122.19</td>\n",
       "      <td>37.79</td>\n",
       "      <td>50</td>\n",
       "      <td>954</td>\n",
       "      <td>217.0</td>\n",
       "      <td>546</td>\n",
       "      <td>201</td>\n",
       "      <td>2.6667</td>\n",
       "      <td>172800</td>\n",
       "      <td>NEAR BAY</td>\n",
       "    </tr>\n",
       "  </tbody>\n",
       "</table>\n",
       "</div>"
      ],
      "text/plain": [
       "   No.  longitude  latitude  housing_median_age  total_rooms  total_bedrooms  \\\n",
       "0    1    -122.12     37.70                  17         2488           617.0   \n",
       "1    2    -122.21     38.10                  36         3018           557.0   \n",
       "2    3    -122.22     38.11                  43         1939           353.0   \n",
       "3    4    -122.20     37.78                  52         2300           443.0   \n",
       "4    5    -122.19     37.79                  50          954           217.0   \n",
       "\n",
       "   population  households  median_income  median_house_value ocean_proximity  \n",
       "0        1287         538         2.9922              179900        NEAR BAY  \n",
       "1        1445         556         3.8029              129900        NEAR BAY  \n",
       "2         968         392         3.1848              112700        NEAR BAY  \n",
       "3        1225         423         3.5398              158400        NEAR BAY  \n",
       "4         546         201         2.6667              172800        NEAR BAY  "
      ]
     },
     "execution_count": 2,
     "metadata": {},
     "output_type": "execute_result"
    }
   ],
   "source": [
    "housing_df = pd.read_csv(\"housing_coursework_entire_dataset_23-24.csv\")\n",
    "housing_df.head()"
   ]
  },
  {
   "cell_type": "markdown",
   "id": "93838ee8",
   "metadata": {},
   "source": [
    "# Data Preparation"
   ]
  },
  {
   "cell_type": "code",
   "execution_count": 3,
   "id": "4e65a9f8",
   "metadata": {},
   "outputs": [
    {
     "data": {
      "text/html": [
       "<div>\n",
       "<style scoped>\n",
       "    .dataframe tbody tr th:only-of-type {\n",
       "        vertical-align: middle;\n",
       "    }\n",
       "\n",
       "    .dataframe tbody tr th {\n",
       "        vertical-align: top;\n",
       "    }\n",
       "\n",
       "    .dataframe thead th {\n",
       "        text-align: right;\n",
       "    }\n",
       "</style>\n",
       "<table border=\"1\" class=\"dataframe\">\n",
       "  <thead>\n",
       "    <tr style=\"text-align: right;\">\n",
       "      <th></th>\n",
       "      <th>No.</th>\n",
       "      <th>longitude</th>\n",
       "      <th>latitude</th>\n",
       "      <th>housing_median_age</th>\n",
       "      <th>total_rooms</th>\n",
       "      <th>total_bedrooms</th>\n",
       "      <th>population</th>\n",
       "      <th>households</th>\n",
       "      <th>median_income</th>\n",
       "      <th>median_house_value</th>\n",
       "      <th>ocean_proximity</th>\n",
       "      <th>ocean_proximity_encoded</th>\n",
       "    </tr>\n",
       "  </thead>\n",
       "  <tbody>\n",
       "    <tr>\n",
       "      <th>0</th>\n",
       "      <td>1</td>\n",
       "      <td>-122.12</td>\n",
       "      <td>37.70</td>\n",
       "      <td>17</td>\n",
       "      <td>2488</td>\n",
       "      <td>617.0</td>\n",
       "      <td>1287</td>\n",
       "      <td>538</td>\n",
       "      <td>2.9922</td>\n",
       "      <td>179900</td>\n",
       "      <td>NEAR BAY</td>\n",
       "      <td>2</td>\n",
       "    </tr>\n",
       "    <tr>\n",
       "      <th>1</th>\n",
       "      <td>2</td>\n",
       "      <td>-122.21</td>\n",
       "      <td>38.10</td>\n",
       "      <td>36</td>\n",
       "      <td>3018</td>\n",
       "      <td>557.0</td>\n",
       "      <td>1445</td>\n",
       "      <td>556</td>\n",
       "      <td>3.8029</td>\n",
       "      <td>129900</td>\n",
       "      <td>NEAR BAY</td>\n",
       "      <td>2</td>\n",
       "    </tr>\n",
       "    <tr>\n",
       "      <th>2</th>\n",
       "      <td>3</td>\n",
       "      <td>-122.22</td>\n",
       "      <td>38.11</td>\n",
       "      <td>43</td>\n",
       "      <td>1939</td>\n",
       "      <td>353.0</td>\n",
       "      <td>968</td>\n",
       "      <td>392</td>\n",
       "      <td>3.1848</td>\n",
       "      <td>112700</td>\n",
       "      <td>NEAR BAY</td>\n",
       "      <td>2</td>\n",
       "    </tr>\n",
       "    <tr>\n",
       "      <th>3</th>\n",
       "      <td>4</td>\n",
       "      <td>-122.20</td>\n",
       "      <td>37.78</td>\n",
       "      <td>52</td>\n",
       "      <td>2300</td>\n",
       "      <td>443.0</td>\n",
       "      <td>1225</td>\n",
       "      <td>423</td>\n",
       "      <td>3.5398</td>\n",
       "      <td>158400</td>\n",
       "      <td>NEAR BAY</td>\n",
       "      <td>2</td>\n",
       "    </tr>\n",
       "    <tr>\n",
       "      <th>4</th>\n",
       "      <td>5</td>\n",
       "      <td>-122.19</td>\n",
       "      <td>37.79</td>\n",
       "      <td>50</td>\n",
       "      <td>954</td>\n",
       "      <td>217.0</td>\n",
       "      <td>546</td>\n",
       "      <td>201</td>\n",
       "      <td>2.6667</td>\n",
       "      <td>172800</td>\n",
       "      <td>NEAR BAY</td>\n",
       "      <td>2</td>\n",
       "    </tr>\n",
       "  </tbody>\n",
       "</table>\n",
       "</div>"
      ],
      "text/plain": [
       "   No.  longitude  latitude  housing_median_age  total_rooms  total_bedrooms  \\\n",
       "0    1    -122.12     37.70                  17         2488           617.0   \n",
       "1    2    -122.21     38.10                  36         3018           557.0   \n",
       "2    3    -122.22     38.11                  43         1939           353.0   \n",
       "3    4    -122.20     37.78                  52         2300           443.0   \n",
       "4    5    -122.19     37.79                  50          954           217.0   \n",
       "\n",
       "   population  households  median_income  median_house_value ocean_proximity  \\\n",
       "0        1287         538         2.9922              179900        NEAR BAY   \n",
       "1        1445         556         3.8029              129900        NEAR BAY   \n",
       "2         968         392         3.1848              112700        NEAR BAY   \n",
       "3        1225         423         3.5398              158400        NEAR BAY   \n",
       "4         546         201         2.6667              172800        NEAR BAY   \n",
       "\n",
       "   ocean_proximity_encoded  \n",
       "0                        2  \n",
       "1                        2  \n",
       "2                        2  \n",
       "3                        2  \n",
       "4                        2  "
      ]
     },
     "execution_count": 3,
     "metadata": {},
     "output_type": "execute_result"
    }
   ],
   "source": [
    "# encoding categorical data, 'ocean_proximity'\n",
    "from sklearn.preprocessing import LabelEncoder\n",
    "\n",
    "column_name = 'ocean_proximity'\n",
    "label_encoder = LabelEncoder()\n",
    "\n",
    "# Fit and transform the categorical column\n",
    "housing_df[column_name + '_encoded'] = label_encoder.fit_transform(housing_df[column_name])\n",
    "\n",
    "housing_df.head()"
   ]
  },
  {
   "cell_type": "code",
   "execution_count": 4,
   "id": "b58efd41",
   "metadata": {},
   "outputs": [
    {
     "data": {
      "text/html": [
       "<div>\n",
       "<style scoped>\n",
       "    .dataframe tbody tr th:only-of-type {\n",
       "        vertical-align: middle;\n",
       "    }\n",
       "\n",
       "    .dataframe tbody tr th {\n",
       "        vertical-align: top;\n",
       "    }\n",
       "\n",
       "    .dataframe thead th {\n",
       "        text-align: right;\n",
       "    }\n",
       "</style>\n",
       "<table border=\"1\" class=\"dataframe\">\n",
       "  <thead>\n",
       "    <tr style=\"text-align: right;\">\n",
       "      <th></th>\n",
       "      <th>longitude</th>\n",
       "      <th>latitude</th>\n",
       "      <th>housing_median_age</th>\n",
       "      <th>total_rooms</th>\n",
       "      <th>total_bedrooms</th>\n",
       "      <th>population</th>\n",
       "      <th>households</th>\n",
       "      <th>median_income</th>\n",
       "      <th>median_house_value</th>\n",
       "      <th>ocean_proximity_encoded</th>\n",
       "    </tr>\n",
       "  </thead>\n",
       "  <tbody>\n",
       "    <tr>\n",
       "      <th>0</th>\n",
       "      <td>-122.12</td>\n",
       "      <td>37.70</td>\n",
       "      <td>17</td>\n",
       "      <td>2488</td>\n",
       "      <td>617.0</td>\n",
       "      <td>1287</td>\n",
       "      <td>538</td>\n",
       "      <td>2.9922</td>\n",
       "      <td>179900</td>\n",
       "      <td>2</td>\n",
       "    </tr>\n",
       "    <tr>\n",
       "      <th>1</th>\n",
       "      <td>-122.21</td>\n",
       "      <td>38.10</td>\n",
       "      <td>36</td>\n",
       "      <td>3018</td>\n",
       "      <td>557.0</td>\n",
       "      <td>1445</td>\n",
       "      <td>556</td>\n",
       "      <td>3.8029</td>\n",
       "      <td>129900</td>\n",
       "      <td>2</td>\n",
       "    </tr>\n",
       "    <tr>\n",
       "      <th>2</th>\n",
       "      <td>-122.22</td>\n",
       "      <td>38.11</td>\n",
       "      <td>43</td>\n",
       "      <td>1939</td>\n",
       "      <td>353.0</td>\n",
       "      <td>968</td>\n",
       "      <td>392</td>\n",
       "      <td>3.1848</td>\n",
       "      <td>112700</td>\n",
       "      <td>2</td>\n",
       "    </tr>\n",
       "    <tr>\n",
       "      <th>3</th>\n",
       "      <td>-122.20</td>\n",
       "      <td>37.78</td>\n",
       "      <td>52</td>\n",
       "      <td>2300</td>\n",
       "      <td>443.0</td>\n",
       "      <td>1225</td>\n",
       "      <td>423</td>\n",
       "      <td>3.5398</td>\n",
       "      <td>158400</td>\n",
       "      <td>2</td>\n",
       "    </tr>\n",
       "    <tr>\n",
       "      <th>4</th>\n",
       "      <td>-122.19</td>\n",
       "      <td>37.79</td>\n",
       "      <td>50</td>\n",
       "      <td>954</td>\n",
       "      <td>217.0</td>\n",
       "      <td>546</td>\n",
       "      <td>201</td>\n",
       "      <td>2.6667</td>\n",
       "      <td>172800</td>\n",
       "      <td>2</td>\n",
       "    </tr>\n",
       "  </tbody>\n",
       "</table>\n",
       "</div>"
      ],
      "text/plain": [
       "   longitude  latitude  housing_median_age  total_rooms  total_bedrooms  \\\n",
       "0    -122.12     37.70                  17         2488           617.0   \n",
       "1    -122.21     38.10                  36         3018           557.0   \n",
       "2    -122.22     38.11                  43         1939           353.0   \n",
       "3    -122.20     37.78                  52         2300           443.0   \n",
       "4    -122.19     37.79                  50          954           217.0   \n",
       "\n",
       "   population  households  median_income  median_house_value  \\\n",
       "0        1287         538         2.9922              179900   \n",
       "1        1445         556         3.8029              129900   \n",
       "2         968         392         3.1848              112700   \n",
       "3        1225         423         3.5398              158400   \n",
       "4         546         201         2.6667              172800   \n",
       "\n",
       "   ocean_proximity_encoded  \n",
       "0                        2  \n",
       "1                        2  \n",
       "2                        2  \n",
       "3                        2  \n",
       "4                        2  "
      ]
     },
     "execution_count": 4,
     "metadata": {},
     "output_type": "execute_result"
    }
   ],
   "source": [
    "housing_df.drop(['No.', 'ocean_proximity'], axis = 1, inplace = True)\n",
    "\n",
    "housing_df.head()"
   ]
  },
  {
   "cell_type": "code",
   "execution_count": 5,
   "id": "ec7430ef",
   "metadata": {},
   "outputs": [
    {
     "data": {
      "text/plain": [
       "longitude                  0\n",
       "latitude                   0\n",
       "housing_median_age         0\n",
       "total_rooms                0\n",
       "total_bedrooms             9\n",
       "population                 0\n",
       "households                 0\n",
       "median_income              0\n",
       "median_house_value         0\n",
       "ocean_proximity_encoded    0\n",
       "dtype: int64"
      ]
     },
     "execution_count": 5,
     "metadata": {},
     "output_type": "execute_result"
    }
   ],
   "source": [
    "housing_df.isna().sum()"
   ]
  },
  {
   "cell_type": "code",
   "execution_count": 6,
   "id": "5d6f93ad",
   "metadata": {},
   "outputs": [
    {
     "data": {
      "text/plain": [
       "count      1000.000000\n",
       "mean     207767.443000\n",
       "std      113675.832278\n",
       "min       14999.000000\n",
       "25%      119900.000000\n",
       "50%      184350.000000\n",
       "75%      261950.000000\n",
       "max      500001.000000\n",
       "Name: median_house_value, dtype: float64"
      ]
     },
     "execution_count": 6,
     "metadata": {},
     "output_type": "execute_result"
    }
   ],
   "source": [
    "housing_df['median_house_value'].describe()"
   ]
  },
  {
   "cell_type": "markdown",
   "id": "a11e8738",
   "metadata": {},
   "source": [
    "# Data Preprocessing"
   ]
  },
  {
   "cell_type": "code",
   "execution_count": 7,
   "id": "65fc0c81",
   "metadata": {},
   "outputs": [
    {
     "data": {
      "text/html": [
       "<div>\n",
       "<style scoped>\n",
       "    .dataframe tbody tr th:only-of-type {\n",
       "        vertical-align: middle;\n",
       "    }\n",
       "\n",
       "    .dataframe tbody tr th {\n",
       "        vertical-align: top;\n",
       "    }\n",
       "\n",
       "    .dataframe thead th {\n",
       "        text-align: right;\n",
       "    }\n",
       "</style>\n",
       "<table border=\"1\" class=\"dataframe\">\n",
       "  <thead>\n",
       "    <tr style=\"text-align: right;\">\n",
       "      <th></th>\n",
       "      <th>longitude</th>\n",
       "      <th>latitude</th>\n",
       "      <th>housing_median_age</th>\n",
       "      <th>total_rooms</th>\n",
       "      <th>total_bedrooms</th>\n",
       "      <th>population</th>\n",
       "      <th>households</th>\n",
       "      <th>median_income</th>\n",
       "      <th>ocean_proximity_encoded</th>\n",
       "    </tr>\n",
       "  </thead>\n",
       "  <tbody>\n",
       "    <tr>\n",
       "      <th>0</th>\n",
       "      <td>-122.12</td>\n",
       "      <td>37.70</td>\n",
       "      <td>17</td>\n",
       "      <td>2488</td>\n",
       "      <td>617.0</td>\n",
       "      <td>1287</td>\n",
       "      <td>538</td>\n",
       "      <td>2.9922</td>\n",
       "      <td>2</td>\n",
       "    </tr>\n",
       "    <tr>\n",
       "      <th>1</th>\n",
       "      <td>-122.21</td>\n",
       "      <td>38.10</td>\n",
       "      <td>36</td>\n",
       "      <td>3018</td>\n",
       "      <td>557.0</td>\n",
       "      <td>1445</td>\n",
       "      <td>556</td>\n",
       "      <td>3.8029</td>\n",
       "      <td>2</td>\n",
       "    </tr>\n",
       "    <tr>\n",
       "      <th>2</th>\n",
       "      <td>-122.22</td>\n",
       "      <td>38.11</td>\n",
       "      <td>43</td>\n",
       "      <td>1939</td>\n",
       "      <td>353.0</td>\n",
       "      <td>968</td>\n",
       "      <td>392</td>\n",
       "      <td>3.1848</td>\n",
       "      <td>2</td>\n",
       "    </tr>\n",
       "    <tr>\n",
       "      <th>3</th>\n",
       "      <td>-122.20</td>\n",
       "      <td>37.78</td>\n",
       "      <td>52</td>\n",
       "      <td>2300</td>\n",
       "      <td>443.0</td>\n",
       "      <td>1225</td>\n",
       "      <td>423</td>\n",
       "      <td>3.5398</td>\n",
       "      <td>2</td>\n",
       "    </tr>\n",
       "    <tr>\n",
       "      <th>4</th>\n",
       "      <td>-122.19</td>\n",
       "      <td>37.79</td>\n",
       "      <td>50</td>\n",
       "      <td>954</td>\n",
       "      <td>217.0</td>\n",
       "      <td>546</td>\n",
       "      <td>201</td>\n",
       "      <td>2.6667</td>\n",
       "      <td>2</td>\n",
       "    </tr>\n",
       "  </tbody>\n",
       "</table>\n",
       "</div>"
      ],
      "text/plain": [
       "   longitude  latitude  housing_median_age  total_rooms  total_bedrooms  \\\n",
       "0    -122.12     37.70                  17         2488           617.0   \n",
       "1    -122.21     38.10                  36         3018           557.0   \n",
       "2    -122.22     38.11                  43         1939           353.0   \n",
       "3    -122.20     37.78                  52         2300           443.0   \n",
       "4    -122.19     37.79                  50          954           217.0   \n",
       "\n",
       "   population  households  median_income  ocean_proximity_encoded  \n",
       "0        1287         538         2.9922                        2  \n",
       "1        1445         556         3.8029                        2  \n",
       "2         968         392         3.1848                        2  \n",
       "3        1225         423         3.5398                        2  \n",
       "4         546         201         2.6667                        2  "
      ]
     },
     "execution_count": 7,
     "metadata": {},
     "output_type": "execute_result"
    }
   ],
   "source": [
    "x = housing_df.drop(['median_house_value'], 1)\n",
    "y = housing_df['median_house_value']\n",
    "\n",
    "x.head()"
   ]
  },
  {
   "cell_type": "code",
   "execution_count": 8,
   "id": "f282dcdf",
   "metadata": {},
   "outputs": [],
   "source": [
    "from sklearn.model_selection import train_test_split\n",
    "from sklearn.impute import SimpleImputer\n",
    "\n",
    "x_train, x_test, y_train, y_test = train_test_split(x, y, test_size = 0.2, random_state = 0)\n",
    "\n",
    "#imputation method is used to replace the NaN values with median in this case\n",
    "imputer = SimpleImputer(strategy='mean')\n",
    "x_train_imputed = imputer.fit_transform(x_train)\n",
    "x_test_imputed = imputer.transform(x_test)"
   ]
  },
  {
   "cell_type": "markdown",
   "id": "5635eeda",
   "metadata": {},
   "source": [
    "# Scaling the Splitted Data"
   ]
  },
  {
   "cell_type": "code",
   "execution_count": 9,
   "id": "0a1825bc",
   "metadata": {},
   "outputs": [],
   "source": [
    "from sklearn.preprocessing import StandardScaler\n",
    "\n",
    "scaler = StandardScaler()\n",
    "\n",
    "# Use StandardScaler to transform the combined arrays\n",
    "x_train_scaler = scaler.fit_transform(x_train_imputed)\n",
    "x_test_scaler = scaler.transform(x_test_imputed)"
   ]
  },
  {
   "cell_type": "markdown",
   "id": "113eee4e",
   "metadata": {},
   "source": [
    "# Fitting Gradient Boosted Trees"
   ]
  },
  {
   "cell_type": "code",
   "execution_count": 106,
   "id": "9f45f611",
   "metadata": {},
   "outputs": [],
   "source": [
    "from sklearn.ensemble import RandomForestRegressor, GradientBoostingRegressor\n",
    "\n",
    "gb_reg_n = GradientBoostingRegressor()\n",
    "gb_reg_n.fit(x_train_scaler, y_train)\n",
    "\n",
    "y_pred_gb = gb_reg_n.predict(x_test_scaler)"
   ]
  },
  {
   "cell_type": "code",
   "execution_count": 108,
   "id": "98ed628c",
   "metadata": {},
   "outputs": [
    {
     "name": "stdout",
     "output_type": "stream",
     "text": [
      "3374791059.16\n",
      "58092.95\n",
      "41842.4\n",
      "0.71\n"
     ]
    }
   ],
   "source": [
    "from sklearn.metrics import mean_squared_error, mean_absolute_error, r2_score\n",
    "import math\n",
    "\n",
    "mse_gb_n = np.round(mean_squared_error(y_test, y_pred_gb), 2)\n",
    "rmse_gb_n = np.round(math.sqrt(mse_gb_n), 2)\n",
    "mae_gb_n = np.round(mean_absolute_error(y_test, y_pred_gb), 2)\n",
    "r2_gb_n = np.round(r2_score(y_test, y_pred_gb), 2)\n",
    "\n",
    "print(mse_gb_n)\n",
    "print(rmse_gb_n)\n",
    "print(mae_gb_n)\n",
    "print(r2_gb_n)"
   ]
  },
  {
   "cell_type": "code",
   "execution_count": 111,
   "id": "abf1d318",
   "metadata": {},
   "outputs": [],
   "source": [
    "gb_reg = GradientBoostingRegressor(n_estimators = 500, learning_rate = 0.1)\n",
    "gb_reg.fit(x_train_scaler, y_train)\n",
    "\n",
    "y_pred_gb = gb_reg.predict(x_test_scaler)"
   ]
  },
  {
   "cell_type": "code",
   "execution_count": 112,
   "id": "ebaba813",
   "metadata": {},
   "outputs": [
    {
     "name": "stdout",
     "output_type": "stream",
     "text": [
      "3245200690.02\n",
      "56966.66\n",
      "40710.22\n",
      "0.72\n"
     ]
    }
   ],
   "source": [
    "from sklearn.metrics import mean_squared_error, mean_absolute_error, r2_score\n",
    "import math\n",
    "\n",
    "mse_gb = np.round(mean_squared_error(y_test, y_pred_gb), 2)\n",
    "rmse_gb = np.round(math.sqrt(mse_gb), 2)\n",
    "mae_gb = np.round(mean_absolute_error(y_test, y_pred_gb), 2)\n",
    "r2_gb = np.round(r2_score(y_test, y_pred_gb), 2)\n",
    "\n",
    "print(mse_gb)\n",
    "print(rmse_gb)\n",
    "print(mae_gb)\n",
    "print(r2_gb)"
   ]
  },
  {
   "cell_type": "markdown",
   "id": "c2cb4934",
   "metadata": {},
   "source": [
    "# Plotting the Result for GBT"
   ]
  },
  {
   "cell_type": "code",
   "execution_count": 109,
   "id": "485bb4bf",
   "metadata": {},
   "outputs": [
    {
     "data": {
      "text/plain": [
       "Text(0.5, 1.0, 'Actual vs Predicted')"
      ]
     },
     "execution_count": 109,
     "metadata": {},
     "output_type": "execute_result"
    },
    {
     "data": {
      "image/png": "[encoded data removed]",
      "text/plain": [
       "<Figure size 1500x1000 with 1 Axes>"
      ]
     },
     "metadata": {},
     "output_type": "display_data"
    }
   ],
   "source": [
    "import matplotlib.pyplot as plt\n",
    "\n",
    "plt.figure(figsize = (15, 10))\n",
    "plt.scatter(y_test, y_pred_gb)\n",
    "plt.xlabel('Actual')\n",
    "plt.ylabel('Predicted')\n",
    "\n",
    "plt.title('Actual vs Predicted')"
   ]
  },
  {
   "cell_type": "markdown",
   "id": "cf347536",
   "metadata": {},
   "source": [
    "# Fitting a Random Forest"
   ]
  },
  {
   "cell_type": "code",
   "execution_count": 98,
   "id": "5d4f8351",
   "metadata": {},
   "outputs": [],
   "source": [
    "from sklearn.model_selection import GridSearchCV\n",
    "\n",
    "parameters = {\n",
    "    'n_estimators': [250, 500, 1000],\n",
    "    'max_depth': [16, 18, 22],          \n",
    "    'min_samples_split': [2, 5, 10],           \n",
    "    'min_samples_leaf': [1, 2, 4]       \n",
    "}\n",
    "\n",
    "rf_reg = RandomForestRegressor()\n",
    "rf_reg = GridSearchCV(rf_reg, parameters, n_jobs = -1)\n",
    "rf_reg.fit(x_train_scaler, y_train)\n",
    "\n",
    "y_pred_rf = rf_reg.predict(x_test_scaler)"
   ]
  },
  {
   "cell_type": "code",
   "execution_count": 100,
   "id": "2bea5611",
   "metadata": {},
   "outputs": [
    {
     "name": "stdout",
     "output_type": "stream",
     "text": [
      "3572203856.28\n",
      "59767.92\n",
      "44134.88\n",
      "0.69\n"
     ]
    }
   ],
   "source": [
    "mse_rf = np.round(mean_squared_error(y_test, y_pred_rf), 2)\n",
    "rmse_rf = np.round(math.sqrt(mse_rf), 2)\n",
    "mae_rf = np.round(mean_absolute_error(y_test, y_pred_rf), 2)\n",
    "r2_rf = np.round(r2_score(y_test, y_pred_rf), 2)\n",
    "\n",
    "print(mse_rf)\n",
    "print(rmse_rf)\n",
    "print(mae_rf)\n",
    "print(r2_rf)"
   ]
  },
  {
   "cell_type": "markdown",
   "id": "cef523b4",
   "metadata": {},
   "source": [
    "# Fitting a Polynomial Linear Regression"
   ]
  },
  {
   "cell_type": "code",
   "execution_count": 74,
   "id": "0a3a7a87",
   "metadata": {},
   "outputs": [],
   "source": [
    "from sklearn.linear_model import LinearRegression\n",
    "from sklearn.preprocessing import PolynomialFeatures\n",
    "\n",
    "polynomial = PolynomialFeatures(degree = 2)\n",
    "x_polynomial_train = polynomial.fit_transform(x_train_scaler)\n",
    "x_polynomial_test = polynomial.transform(x_test_scaler)\n",
    "polynomial.fit(x_polynomial_train, y_train)\n",
    "dt_plr = LinearRegression()\n",
    "dt_plr.fit(x_polynomial_train, y_train)\n",
    "\n",
    "y_pred_plr = dt_plr.predict(x_polynomial_test)"
   ]
  },
  {
   "cell_type": "code",
   "execution_count": 75,
   "id": "5cfabc45",
   "metadata": {},
   "outputs": [
    {
     "name": "stdout",
     "output_type": "stream",
     "text": [
      "3915674532.21\n",
      "62575.35\n",
      "45835.04\n",
      "0.66\n"
     ]
    }
   ],
   "source": [
    "mse_plr = np.round(mean_squared_error(y_test, y_pred_plr), 2)\n",
    "rmse_plr = np.round(math.sqrt(mse_plr), 2)\n",
    "mae_plr = np.round(mean_absolute_error(y_test, y_pred_plr), 2)\n",
    "r2_plr = np.round(r2_score(y_test, y_pred_plr), 2)\n",
    "\n",
    "print(mse_plr)\n",
    "print(rmse_plr)\n",
    "print(mae_plr)\n",
    "print(r2_plr)"
   ]
  },
  {
   "cell_type": "markdown",
   "id": "dba976c5",
   "metadata": {},
   "source": [
    "# Comparing Performances"
   ]
  },
  {
   "cell_type": "code",
   "execution_count": 113,
   "id": "c711e671",
   "metadata": {},
   "outputs": [
    {
     "data": {
      "text/html": [
       "<div>\n",
       "<style scoped>\n",
       "    .dataframe tbody tr th:only-of-type {\n",
       "        vertical-align: middle;\n",
       "    }\n",
       "\n",
       "    .dataframe tbody tr th {\n",
       "        vertical-align: top;\n",
       "    }\n",
       "\n",
       "    .dataframe thead th {\n",
       "        text-align: right;\n",
       "    }\n",
       "</style>\n",
       "<table border=\"1\" class=\"dataframe\">\n",
       "  <thead>\n",
       "    <tr style=\"text-align: right;\">\n",
       "      <th></th>\n",
       "      <th>MSE</th>\n",
       "      <th>RMSE</th>\n",
       "      <th>MAE</th>\n",
       "      <th>R2</th>\n",
       "    </tr>\n",
       "  </thead>\n",
       "  <tbody>\n",
       "    <tr>\n",
       "      <th>Gradient Boosted Trees</th>\n",
       "      <td>3.245201e+09</td>\n",
       "      <td>56966.66</td>\n",
       "      <td>40710.22</td>\n",
       "      <td>0.72</td>\n",
       "    </tr>\n",
       "    <tr>\n",
       "      <th>Random Forest</th>\n",
       "      <td>3.572204e+09</td>\n",
       "      <td>59767.92</td>\n",
       "      <td>44134.88</td>\n",
       "      <td>0.69</td>\n",
       "    </tr>\n",
       "    <tr>\n",
       "      <th>Polynomial Regression</th>\n",
       "      <td>3.915675e+09</td>\n",
       "      <td>62575.35</td>\n",
       "      <td>45835.04</td>\n",
       "      <td>0.66</td>\n",
       "    </tr>\n",
       "  </tbody>\n",
       "</table>\n",
       "</div>"
      ],
      "text/plain": [
       "                                 MSE      RMSE       MAE    R2\n",
       "Gradient Boosted Trees  3.245201e+09  56966.66  40710.22  0.72\n",
       "Random Forest           3.572204e+09  59767.92  44134.88  0.69\n",
       "Polynomial Regression   3.915675e+09  62575.35  45835.04  0.66"
      ]
     },
     "execution_count": 113,
     "metadata": {},
     "output_type": "execute_result"
    }
   ],
   "source": [
    "df_performance = pd.DataFrame([[mse_gb, rmse_gb, mae_gb, r2_gb], [mse_rf, rmse_rf, mae_rf, r2_rf], [mse_plr, rmse_plr, mae_plr, r2_plr]], \n",
    "                              columns = ['MSE', 'RMSE', 'MAE', 'R2'], index = ['Gradient Boosted Trees', 'Random Forest', 'Polynomial Regression'])\n",
    "\n",
    "df_performance"
   ]
  },
  {
   "cell_type": "code",
   "execution_count": null,
   "id": "68b82ffb",
   "metadata": {},
   "outputs": [],
   "source": []
  }
 ],
 "metadata": {
  "kernelspec": {
   "display_name": "Python 3 (ipykernel)",
   "language": "python",
   "name": "python3"
  },
  "language_info": {
   "codemirror_mode": {
    "name": "ipython",
    "version": 3
   },
   "file_extension": ".py",
   "mimetype": "text/x-python",
   "name": "python",
   "nbconvert_exporter": "python",
   "pygments_lexer": "ipython3",
   "version": "3.11.4"
  }
 },
 "nbformat": 4,
 "nbformat_minor": 5
}
