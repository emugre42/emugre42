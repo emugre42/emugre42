{
 "cells": [
  {
   "cell_type": "markdown",
   "id": "e167d8ad",
   "metadata": {},
   "source": [
    "# Importing Data"
   ]
  },
  {
   "cell_type": "code",
   "execution_count": 1,
   "id": "319fcd79",
   "metadata": {},
   "outputs": [],
   "source": [
    "import pandas as pd"
   ]
  },
  {
   "cell_type": "code",
   "execution_count": 2,
   "id": "86f5ce90",
   "metadata": {},
   "outputs": [
    {
     "data": {
      "text/html": [
       "<div>\n",
       "<style scoped>\n",
       "    .dataframe tbody tr th:only-of-type {\n",
       "        vertical-align: middle;\n",
       "    }\n",
       "\n",
       "    .dataframe tbody tr th {\n",
       "        vertical-align: top;\n",
       "    }\n",
       "\n",
       "    .dataframe thead th {\n",
       "        text-align: right;\n",
       "    }\n",
       "</style>\n",
       "<table border=\"1\" class=\"dataframe\">\n",
       "  <thead>\n",
       "    <tr style=\"text-align: right;\">\n",
       "      <th></th>\n",
       "      <th>No.</th>\n",
       "      <th>longitude</th>\n",
       "      <th>latitude</th>\n",
       "      <th>housing_median_age</th>\n",
       "      <th>total_rooms</th>\n",
       "      <th>total_bedrooms</th>\n",
       "      <th>population</th>\n",
       "      <th>households</th>\n",
       "      <th>median_income</th>\n",
       "      <th>median_house_value</th>\n",
       "      <th>ocean_proximity</th>\n",
       "    </tr>\n",
       "  </thead>\n",
       "  <tbody>\n",
       "    <tr>\n",
       "      <th>0</th>\n",
       "      <td>1</td>\n",
       "      <td>-122.12</td>\n",
       "      <td>37.70</td>\n",
       "      <td>17</td>\n",
       "      <td>2488</td>\n",
       "      <td>617.0</td>\n",
       "      <td>1287</td>\n",
       "      <td>538</td>\n",
       "      <td>2.9922</td>\n",
       "      <td>179900</td>\n",
       "      <td>NEAR BAY</td>\n",
       "    </tr>\n",
       "    <tr>\n",
       "      <th>1</th>\n",
       "      <td>2</td>\n",
       "      <td>-122.21</td>\n",
       "      <td>38.10</td>\n",
       "      <td>36</td>\n",
       "      <td>3018</td>\n",
       "      <td>557.0</td>\n",
       "      <td>1445</td>\n",
       "      <td>556</td>\n",
       "      <td>3.8029</td>\n",
       "      <td>129900</td>\n",
       "      <td>NEAR BAY</td>\n",
       "    </tr>\n",
       "    <tr>\n",
       "      <th>2</th>\n",
       "      <td>3</td>\n",
       "      <td>-122.22</td>\n",
       "      <td>38.11</td>\n",
       "      <td>43</td>\n",
       "      <td>1939</td>\n",
       "      <td>353.0</td>\n",
       "      <td>968</td>\n",
       "      <td>392</td>\n",
       "      <td>3.1848</td>\n",
       "      <td>112700</td>\n",
       "      <td>NEAR BAY</td>\n",
       "    </tr>\n",
       "    <tr>\n",
       "      <th>3</th>\n",
       "      <td>4</td>\n",
       "      <td>-122.20</td>\n",
       "      <td>37.78</td>\n",
       "      <td>52</td>\n",
       "      <td>2300</td>\n",
       "      <td>443.0</td>\n",
       "      <td>1225</td>\n",
       "      <td>423</td>\n",
       "      <td>3.5398</td>\n",
       "      <td>158400</td>\n",
       "      <td>NEAR BAY</td>\n",
       "    </tr>\n",
       "    <tr>\n",
       "      <th>4</th>\n",
       "      <td>5</td>\n",
       "      <td>-122.19</td>\n",
       "      <td>37.79</td>\n",
       "      <td>50</td>\n",
       "      <td>954</td>\n",
       "      <td>217.0</td>\n",
       "      <td>546</td>\n",
       "      <td>201</td>\n",
       "      <td>2.6667</td>\n",
       "      <td>172800</td>\n",
       "      <td>NEAR BAY</td>\n",
       "    </tr>\n",
       "  </tbody>\n",
       "</table>\n",
       "</div>"
      ],
      "text/plain": [
       "   No.  longitude  latitude  housing_median_age  total_rooms  total_bedrooms  \\\n",
       "0    1    -122.12     37.70                  17         2488           617.0   \n",
       "1    2    -122.21     38.10                  36         3018           557.0   \n",
       "2    3    -122.22     38.11                  43         1939           353.0   \n",
       "3    4    -122.20     37.78                  52         2300           443.0   \n",
       "4    5    -122.19     37.79                  50          954           217.0   \n",
       "\n",
       "   population  households  median_income  median_house_value ocean_proximity  \n",
       "0        1287         538         2.9922              179900        NEAR BAY  \n",
       "1        1445         556         3.8029              129900        NEAR BAY  \n",
       "2         968         392         3.1848              112700        NEAR BAY  \n",
       "3        1225         423         3.5398              158400        NEAR BAY  \n",
       "4         546         201         2.6667              172800        NEAR BAY  "
      ]
     },
     "execution_count": 2,
     "metadata": {},
     "output_type": "execute_result"
    }
   ],
   "source": [
    "housing_df = pd.read_csv('housing_coursework_entire_dataset_23-24.csv')\n",
    "housing_df.head()"
   ]
  },
  {
   "cell_type": "markdown",
   "id": "a0960806",
   "metadata": {},
   "source": [
    "# Data Preprocessing"
   ]
  },
  {
   "cell_type": "code",
   "execution_count": 3,
   "id": "09b05d43",
   "metadata": {},
   "outputs": [
    {
     "data": {
      "text/html": [
       "<div>\n",
       "<style scoped>\n",
       "    .dataframe tbody tr th:only-of-type {\n",
       "        vertical-align: middle;\n",
       "    }\n",
       "\n",
       "    .dataframe tbody tr th {\n",
       "        vertical-align: top;\n",
       "    }\n",
       "\n",
       "    .dataframe thead th {\n",
       "        text-align: right;\n",
       "    }\n",
       "</style>\n",
       "<table border=\"1\" class=\"dataframe\">\n",
       "  <thead>\n",
       "    <tr style=\"text-align: right;\">\n",
       "      <th></th>\n",
       "      <th>No.</th>\n",
       "      <th>longitude</th>\n",
       "      <th>latitude</th>\n",
       "      <th>housing_median_age</th>\n",
       "      <th>total_rooms</th>\n",
       "      <th>total_bedrooms</th>\n",
       "      <th>population</th>\n",
       "      <th>households</th>\n",
       "      <th>median_income</th>\n",
       "      <th>median_house_value</th>\n",
       "      <th>ocean_proximity</th>\n",
       "      <th>ocean_proximity_encoded</th>\n",
       "    </tr>\n",
       "  </thead>\n",
       "  <tbody>\n",
       "    <tr>\n",
       "      <th>0</th>\n",
       "      <td>1</td>\n",
       "      <td>-122.12</td>\n",
       "      <td>37.70</td>\n",
       "      <td>17</td>\n",
       "      <td>2488</td>\n",
       "      <td>617.0</td>\n",
       "      <td>1287</td>\n",
       "      <td>538</td>\n",
       "      <td>2.9922</td>\n",
       "      <td>179900</td>\n",
       "      <td>NEAR BAY</td>\n",
       "      <td>2</td>\n",
       "    </tr>\n",
       "    <tr>\n",
       "      <th>1</th>\n",
       "      <td>2</td>\n",
       "      <td>-122.21</td>\n",
       "      <td>38.10</td>\n",
       "      <td>36</td>\n",
       "      <td>3018</td>\n",
       "      <td>557.0</td>\n",
       "      <td>1445</td>\n",
       "      <td>556</td>\n",
       "      <td>3.8029</td>\n",
       "      <td>129900</td>\n",
       "      <td>NEAR BAY</td>\n",
       "      <td>2</td>\n",
       "    </tr>\n",
       "    <tr>\n",
       "      <th>2</th>\n",
       "      <td>3</td>\n",
       "      <td>-122.22</td>\n",
       "      <td>38.11</td>\n",
       "      <td>43</td>\n",
       "      <td>1939</td>\n",
       "      <td>353.0</td>\n",
       "      <td>968</td>\n",
       "      <td>392</td>\n",
       "      <td>3.1848</td>\n",
       "      <td>112700</td>\n",
       "      <td>NEAR BAY</td>\n",
       "      <td>2</td>\n",
       "    </tr>\n",
       "    <tr>\n",
       "      <th>3</th>\n",
       "      <td>4</td>\n",
       "      <td>-122.20</td>\n",
       "      <td>37.78</td>\n",
       "      <td>52</td>\n",
       "      <td>2300</td>\n",
       "      <td>443.0</td>\n",
       "      <td>1225</td>\n",
       "      <td>423</td>\n",
       "      <td>3.5398</td>\n",
       "      <td>158400</td>\n",
       "      <td>NEAR BAY</td>\n",
       "      <td>2</td>\n",
       "    </tr>\n",
       "    <tr>\n",
       "      <th>4</th>\n",
       "      <td>5</td>\n",
       "      <td>-122.19</td>\n",
       "      <td>37.79</td>\n",
       "      <td>50</td>\n",
       "      <td>954</td>\n",
       "      <td>217.0</td>\n",
       "      <td>546</td>\n",
       "      <td>201</td>\n",
       "      <td>2.6667</td>\n",
       "      <td>172800</td>\n",
       "      <td>NEAR BAY</td>\n",
       "      <td>2</td>\n",
       "    </tr>\n",
       "  </tbody>\n",
       "</table>\n",
       "</div>"
      ],
      "text/plain": [
       "   No.  longitude  latitude  housing_median_age  total_rooms  total_bedrooms  \\\n",
       "0    1    -122.12     37.70                  17         2488           617.0   \n",
       "1    2    -122.21     38.10                  36         3018           557.0   \n",
       "2    3    -122.22     38.11                  43         1939           353.0   \n",
       "3    4    -122.20     37.78                  52         2300           443.0   \n",
       "4    5    -122.19     37.79                  50          954           217.0   \n",
       "\n",
       "   population  households  median_income  median_house_value ocean_proximity  \\\n",
       "0        1287         538         2.9922              179900        NEAR BAY   \n",
       "1        1445         556         3.8029              129900        NEAR BAY   \n",
       "2         968         392         3.1848              112700        NEAR BAY   \n",
       "3        1225         423         3.5398              158400        NEAR BAY   \n",
       "4         546         201         2.6667              172800        NEAR BAY   \n",
       "\n",
       "   ocean_proximity_encoded  \n",
       "0                        2  \n",
       "1                        2  \n",
       "2                        2  \n",
       "3                        2  \n",
       "4                        2  "
      ]
     },
     "execution_count": 3,
     "metadata": {},
     "output_type": "execute_result"
    }
   ],
   "source": [
    "# encoding categorical data, 'ocean_proximity'\n",
    "from sklearn.preprocessing import LabelEncoder\n",
    "\n",
    "column_name = 'ocean_proximity'\n",
    "label_encoder = LabelEncoder()\n",
    "\n",
    "# Fit and transform the categorical column\n",
    "housing_df[column_name + '_encoded'] = label_encoder.fit_transform(housing_df[column_name])\n",
    "\n",
    "housing_df.head()"
   ]
  },
  {
   "cell_type": "code",
   "execution_count": 24,
   "id": "421ffdec",
   "metadata": {},
   "outputs": [
    {
     "data": {
      "text/plain": [
       "count      1000.000000\n",
       "mean     207767.443000\n",
       "std      113675.832278\n",
       "min       14999.000000\n",
       "25%      119900.000000\n",
       "50%      184350.000000\n",
       "75%      261950.000000\n",
       "max      500001.000000\n",
       "Name: median_house_value, dtype: float64"
      ]
     },
     "execution_count": 24,
     "metadata": {},
     "output_type": "execute_result"
    }
   ],
   "source": [
    "housing_df['median_house_value'].describe()"
   ]
  },
  {
   "cell_type": "code",
   "execution_count": 4,
   "id": "89e41ed3",
   "metadata": {},
   "outputs": [
    {
     "data": {
      "text/plain": [
       "No.                        0\n",
       "longitude                  0\n",
       "latitude                   0\n",
       "housing_median_age         0\n",
       "total_rooms                0\n",
       "total_bedrooms             9\n",
       "population                 0\n",
       "households                 0\n",
       "median_income              0\n",
       "median_house_value         0\n",
       "ocean_proximity            2\n",
       "ocean_proximity_encoded    0\n",
       "dtype: int64"
      ]
     },
     "execution_count": 4,
     "metadata": {},
     "output_type": "execute_result"
    }
   ],
   "source": [
    "housing_df.isna().sum()"
   ]
  },
  {
   "cell_type": "markdown",
   "id": "7c812cbb",
   "metadata": {},
   "source": [
    "# X and Y"
   ]
  },
  {
   "cell_type": "code",
   "execution_count": 5,
   "id": "518b0797",
   "metadata": {},
   "outputs": [
    {
     "data": {
      "text/html": [
       "<div>\n",
       "<style scoped>\n",
       "    .dataframe tbody tr th:only-of-type {\n",
       "        vertical-align: middle;\n",
       "    }\n",
       "\n",
       "    .dataframe tbody tr th {\n",
       "        vertical-align: top;\n",
       "    }\n",
       "\n",
       "    .dataframe thead th {\n",
       "        text-align: right;\n",
       "    }\n",
       "</style>\n",
       "<table border=\"1\" class=\"dataframe\">\n",
       "  <thead>\n",
       "    <tr style=\"text-align: right;\">\n",
       "      <th></th>\n",
       "      <th>longitude</th>\n",
       "      <th>latitude</th>\n",
       "      <th>housing_median_age</th>\n",
       "      <th>total_rooms</th>\n",
       "      <th>total_bedrooms</th>\n",
       "      <th>population</th>\n",
       "      <th>households</th>\n",
       "      <th>median_income</th>\n",
       "      <th>ocean_proximity_encoded</th>\n",
       "    </tr>\n",
       "  </thead>\n",
       "  <tbody>\n",
       "    <tr>\n",
       "      <th>0</th>\n",
       "      <td>-122.12</td>\n",
       "      <td>37.70</td>\n",
       "      <td>17</td>\n",
       "      <td>2488</td>\n",
       "      <td>617.0</td>\n",
       "      <td>1287</td>\n",
       "      <td>538</td>\n",
       "      <td>2.9922</td>\n",
       "      <td>2</td>\n",
       "    </tr>\n",
       "    <tr>\n",
       "      <th>1</th>\n",
       "      <td>-122.21</td>\n",
       "      <td>38.10</td>\n",
       "      <td>36</td>\n",
       "      <td>3018</td>\n",
       "      <td>557.0</td>\n",
       "      <td>1445</td>\n",
       "      <td>556</td>\n",
       "      <td>3.8029</td>\n",
       "      <td>2</td>\n",
       "    </tr>\n",
       "    <tr>\n",
       "      <th>2</th>\n",
       "      <td>-122.22</td>\n",
       "      <td>38.11</td>\n",
       "      <td>43</td>\n",
       "      <td>1939</td>\n",
       "      <td>353.0</td>\n",
       "      <td>968</td>\n",
       "      <td>392</td>\n",
       "      <td>3.1848</td>\n",
       "      <td>2</td>\n",
       "    </tr>\n",
       "    <tr>\n",
       "      <th>3</th>\n",
       "      <td>-122.20</td>\n",
       "      <td>37.78</td>\n",
       "      <td>52</td>\n",
       "      <td>2300</td>\n",
       "      <td>443.0</td>\n",
       "      <td>1225</td>\n",
       "      <td>423</td>\n",
       "      <td>3.5398</td>\n",
       "      <td>2</td>\n",
       "    </tr>\n",
       "    <tr>\n",
       "      <th>4</th>\n",
       "      <td>-122.19</td>\n",
       "      <td>37.79</td>\n",
       "      <td>50</td>\n",
       "      <td>954</td>\n",
       "      <td>217.0</td>\n",
       "      <td>546</td>\n",
       "      <td>201</td>\n",
       "      <td>2.6667</td>\n",
       "      <td>2</td>\n",
       "    </tr>\n",
       "    <tr>\n",
       "      <th>...</th>\n",
       "      <td>...</td>\n",
       "      <td>...</td>\n",
       "      <td>...</td>\n",
       "      <td>...</td>\n",
       "      <td>...</td>\n",
       "      <td>...</td>\n",
       "      <td>...</td>\n",
       "      <td>...</td>\n",
       "      <td>...</td>\n",
       "    </tr>\n",
       "    <tr>\n",
       "      <th>995</th>\n",
       "      <td>-119.30</td>\n",
       "      <td>36.30</td>\n",
       "      <td>14</td>\n",
       "      <td>3023</td>\n",
       "      <td>469.0</td>\n",
       "      <td>1523</td>\n",
       "      <td>492</td>\n",
       "      <td>5.3602</td>\n",
       "      <td>1</td>\n",
       "    </tr>\n",
       "    <tr>\n",
       "      <th>996</th>\n",
       "      <td>-121.70</td>\n",
       "      <td>38.65</td>\n",
       "      <td>22</td>\n",
       "      <td>1360</td>\n",
       "      <td>282.0</td>\n",
       "      <td>808</td>\n",
       "      <td>229</td>\n",
       "      <td>2.4167</td>\n",
       "      <td>1</td>\n",
       "    </tr>\n",
       "    <tr>\n",
       "      <th>997</th>\n",
       "      <td>-121.92</td>\n",
       "      <td>38.57</td>\n",
       "      <td>10</td>\n",
       "      <td>1320</td>\n",
       "      <td>246.0</td>\n",
       "      <td>898</td>\n",
       "      <td>228</td>\n",
       "      <td>1.9327</td>\n",
       "      <td>1</td>\n",
       "    </tr>\n",
       "    <tr>\n",
       "      <th>998</th>\n",
       "      <td>-122.00</td>\n",
       "      <td>38.83</td>\n",
       "      <td>26</td>\n",
       "      <td>272</td>\n",
       "      <td>49.0</td>\n",
       "      <td>194</td>\n",
       "      <td>52</td>\n",
       "      <td>3.4187</td>\n",
       "      <td>1</td>\n",
       "    </tr>\n",
       "    <tr>\n",
       "      <th>999</th>\n",
       "      <td>-121.21</td>\n",
       "      <td>39.49</td>\n",
       "      <td>18</td>\n",
       "      <td>697</td>\n",
       "      <td>150.0</td>\n",
       "      <td>356</td>\n",
       "      <td>114</td>\n",
       "      <td>2.5568</td>\n",
       "      <td>1</td>\n",
       "    </tr>\n",
       "  </tbody>\n",
       "</table>\n",
       "<p>1000 rows × 9 columns</p>\n",
       "</div>"
      ],
      "text/plain": [
       "     longitude  latitude  housing_median_age  total_rooms  total_bedrooms  \\\n",
       "0      -122.12     37.70                  17         2488           617.0   \n",
       "1      -122.21     38.10                  36         3018           557.0   \n",
       "2      -122.22     38.11                  43         1939           353.0   \n",
       "3      -122.20     37.78                  52         2300           443.0   \n",
       "4      -122.19     37.79                  50          954           217.0   \n",
       "..         ...       ...                 ...          ...             ...   \n",
       "995    -119.30     36.30                  14         3023           469.0   \n",
       "996    -121.70     38.65                  22         1360           282.0   \n",
       "997    -121.92     38.57                  10         1320           246.0   \n",
       "998    -122.00     38.83                  26          272            49.0   \n",
       "999    -121.21     39.49                  18          697           150.0   \n",
       "\n",
       "     population  households  median_income  ocean_proximity_encoded  \n",
       "0          1287         538         2.9922                        2  \n",
       "1          1445         556         3.8029                        2  \n",
       "2           968         392         3.1848                        2  \n",
       "3          1225         423         3.5398                        2  \n",
       "4           546         201         2.6667                        2  \n",
       "..          ...         ...            ...                      ...  \n",
       "995        1523         492         5.3602                        1  \n",
       "996         808         229         2.4167                        1  \n",
       "997         898         228         1.9327                        1  \n",
       "998         194          52         3.4187                        1  \n",
       "999         356         114         2.5568                        1  \n",
       "\n",
       "[1000 rows x 9 columns]"
      ]
     },
     "execution_count": 5,
     "metadata": {},
     "output_type": "execute_result"
    }
   ],
   "source": [
    "x = housing_df.drop(columns = ['No.', 'median_house_value', 'ocean_proximity'])\n",
    "y = housing_df['median_house_value']\n",
    "\n",
    "x"
   ]
  },
  {
   "cell_type": "code",
   "execution_count": 6,
   "id": "0fbeaae1",
   "metadata": {},
   "outputs": [
    {
     "data": {
      "text/plain": [
       "longitude                  0\n",
       "latitude                   0\n",
       "housing_median_age         0\n",
       "total_rooms                0\n",
       "total_bedrooms             9\n",
       "population                 0\n",
       "households                 0\n",
       "median_income              0\n",
       "ocean_proximity_encoded    0\n",
       "dtype: int64"
      ]
     },
     "execution_count": 6,
     "metadata": {},
     "output_type": "execute_result"
    }
   ],
   "source": [
    "x.isna().sum()"
   ]
  },
  {
   "cell_type": "markdown",
   "id": "6f1a93e4",
   "metadata": {},
   "source": [
    "# Splitting the Data"
   ]
  },
  {
   "cell_type": "code",
   "execution_count": 7,
   "id": "3eba8849",
   "metadata": {},
   "outputs": [],
   "source": [
    "from sklearn.model_selection import train_test_split\n",
    "from sklearn.impute import SimpleImputer\n",
    "\n",
    "x_train, x_test, y_train, y_test = train_test_split(x, y, test_size = 0.2, random_state = 0)\n",
    "\n",
    "#imputation method is used to replace the NaN values with mean in this case\n",
    "imputer = SimpleImputer(strategy='mean')\n",
    "x_train_imputed = imputer.fit_transform(x_train)\n",
    "x_test_imputed = imputer.transform(x_test)"
   ]
  },
  {
   "cell_type": "markdown",
   "id": "41b39881",
   "metadata": {},
   "source": [
    "# Feature Scaling"
   ]
  },
  {
   "cell_type": "code",
   "execution_count": 8,
   "id": "7edcae2b",
   "metadata": {},
   "outputs": [],
   "source": [
    "from sklearn.preprocessing import StandardScaler\n",
    "\n",
    "scaler = StandardScaler()\n",
    "\n",
    "# Use StandardScaler to transform the combined arrays\n",
    "x_train_scaler = scaler.fit_transform(x_train_imputed)\n",
    "x_test_scaler = scaler.transform(x_test_imputed)"
   ]
  },
  {
   "cell_type": "markdown",
   "id": "cb0d9611",
   "metadata": {},
   "source": [
    "# Model Evaluation"
   ]
  },
  {
   "cell_type": "code",
   "execution_count": 20,
   "id": "749d8caa",
   "metadata": {},
   "outputs": [
    {
     "data": {
      "text/html": [
       "<style>#sk-container-id-4 {color: black;}#sk-container-id-4 pre{padding: 0;}#sk-container-id-4 div.sk-toggleable {background-color: white;}#sk-container-id-4 label.sk-toggleable__label {cursor: pointer;display: block;width: 100%;margin-bottom: 0;padding: 0.3em;box-sizing: border-box;text-align: center;}#sk-container-id-4 label.sk-toggleable__label-arrow:before {content: \"▸\";float: left;margin-right: 0.25em;color: #696969;}#sk-container-id-4 label.sk-toggleable__label-arrow:hover:before {color: black;}#sk-container-id-4 div.sk-estimator:hover label.sk-toggleable__label-arrow:before {color: black;}#sk-container-id-4 div.sk-toggleable__content {max-height: 0;max-width: 0;overflow: hidden;text-align: left;background-color: #f0f8ff;}#sk-container-id-4 div.sk-toggleable__content pre {margin: 0.2em;color: black;border-radius: 0.25em;background-color: #f0f8ff;}#sk-container-id-4 input.sk-toggleable__control:checked~div.sk-toggleable__content {max-height: 200px;max-width: 100%;overflow: auto;}#sk-container-id-4 input.sk-toggleable__control:checked~label.sk-toggleable__label-arrow:before {content: \"▾\";}#sk-container-id-4 div.sk-estimator input.sk-toggleable__control:checked~label.sk-toggleable__label {background-color: #d4ebff;}#sk-container-id-4 div.sk-label input.sk-toggleable__control:checked~label.sk-toggleable__label {background-color: #d4ebff;}#sk-container-id-4 input.sk-hidden--visually {border: 0;clip: rect(1px 1px 1px 1px);clip: rect(1px, 1px, 1px, 1px);height: 1px;margin: -1px;overflow: hidden;padding: 0;position: absolute;width: 1px;}#sk-container-id-4 div.sk-estimator {font-family: monospace;background-color: #f0f8ff;border: 1px dotted black;border-radius: 0.25em;box-sizing: border-box;margin-bottom: 0.5em;}#sk-container-id-4 div.sk-estimator:hover {background-color: #d4ebff;}#sk-container-id-4 div.sk-parallel-item::after {content: \"\";width: 100%;border-bottom: 1px solid gray;flex-grow: 1;}#sk-container-id-4 div.sk-label:hover label.sk-toggleable__label {background-color: #d4ebff;}#sk-container-id-4 div.sk-serial::before {content: \"\";position: absolute;border-left: 1px solid gray;box-sizing: border-box;top: 0;bottom: 0;left: 50%;z-index: 0;}#sk-container-id-4 div.sk-serial {display: flex;flex-direction: column;align-items: center;background-color: white;padding-right: 0.2em;padding-left: 0.2em;position: relative;}#sk-container-id-4 div.sk-item {position: relative;z-index: 1;}#sk-container-id-4 div.sk-parallel {display: flex;align-items: stretch;justify-content: center;background-color: white;position: relative;}#sk-container-id-4 div.sk-item::before, #sk-container-id-4 div.sk-parallel-item::before {content: \"\";position: absolute;border-left: 1px solid gray;box-sizing: border-box;top: 0;bottom: 0;left: 50%;z-index: -1;}#sk-container-id-4 div.sk-parallel-item {display: flex;flex-direction: column;z-index: 1;position: relative;background-color: white;}#sk-container-id-4 div.sk-parallel-item:first-child::after {align-self: flex-end;width: 50%;}#sk-container-id-4 div.sk-parallel-item:last-child::after {align-self: flex-start;width: 50%;}#sk-container-id-4 div.sk-parallel-item:only-child::after {width: 0;}#sk-container-id-4 div.sk-dashed-wrapped {border: 1px dashed gray;margin: 0 0.4em 0.5em 0.4em;box-sizing: border-box;padding-bottom: 0.4em;background-color: white;}#sk-container-id-4 div.sk-label label {font-family: monospace;font-weight: bold;display: inline-block;line-height: 1.2em;}#sk-container-id-4 div.sk-label-container {text-align: center;}#sk-container-id-4 div.sk-container {/* jupyter's `normalize.less` sets `[hidden] { display: none; }` but bootstrap.min.css set `[hidden] { display: none !important; }` so we also need the `!important` here to be able to override the default hidden behavior on the sphinx rendered scikit-learn.org. See: https://github.com/scikit-learn/scikit-learn/issues/21755 */display: inline-block !important;position: relative;}#sk-container-id-4 div.sk-text-repr-fallback {display: none;}</style><div id=\"sk-container-id-4\" class=\"sk-top-container\"><div class=\"sk-text-repr-fallback\"><pre>RandomForestRegressor()</pre><b>In a Jupyter environment, please rerun this cell to show the HTML representation or trust the notebook. <br />On GitHub, the HTML representation is unable to render, please try loading this page with nbviewer.org.</b></div><div class=\"sk-container\" hidden><div class=\"sk-item\"><div class=\"sk-estimator sk-toggleable\"><input class=\"sk-toggleable__control sk-hidden--visually\" id=\"sk-estimator-id-6\" type=\"checkbox\" checked><label for=\"sk-estimator-id-6\" class=\"sk-toggleable__label sk-toggleable__label-arrow\">RandomForestRegressor</label><div class=\"sk-toggleable__content\"><pre>RandomForestRegressor()</pre></div></div></div></div></div>"
      ],
      "text/plain": [
       "RandomForestRegressor()"
      ]
     },
     "execution_count": 20,
     "metadata": {},
     "output_type": "execute_result"
    }
   ],
   "source": [
    "from sklearn.ensemble import RandomForestRegressor\n",
    "\n",
    "rfr = RandomForestRegressor()\n",
    "rfr.fit(x_train_scaler, y_train)"
   ]
  },
  {
   "cell_type": "code",
   "execution_count": 21,
   "id": "c13bc5bf",
   "metadata": {},
   "outputs": [
    {
     "name": "stdout",
     "output_type": "stream",
     "text": [
      "MSE: 612435926.91\n",
      "RMSE: 24747.44\n",
      "MAE: 16761.61\n",
      "R2: 0.95\n"
     ]
    }
   ],
   "source": [
    "from sklearn.metrics import mean_absolute_error, mean_squared_error, r2_score\n",
    "import numpy as np\n",
    "import math\n",
    "\n",
    "y_pred_train = rfr.predict(x_train_scaler)\n",
    "\n",
    "rfr_mse_train = np.round(mean_squared_error(y_train, y_pred_train), 2)\n",
    "rfr_rmse_train = np.round(math.sqrt(rfr_mse_train), 2)\n",
    "rfr_mae_train = np.round(mean_absolute_error(y_train, y_pred_train), 2)\n",
    "rfr_r2_train = np.round(r2_score(y_train, y_pred_train), 2)\n",
    "\n",
    "print(\"MSE:\", rfr_mse_train)\n",
    "print(\"RMSE:\", rfr_rmse_train)\n",
    "print(\"MAE:\", rfr_mae_train)\n",
    "print(\"R2:\", rfr_r2_train)"
   ]
  },
  {
   "cell_type": "code",
   "execution_count": 22,
   "id": "0e01aa9b",
   "metadata": {},
   "outputs": [
    {
     "name": "stdout",
     "output_type": "stream",
     "text": [
      "MSE: 3586039859.88\n",
      "RMSE: 59883.55\n",
      "MAE: 44714.09\n",
      "R2: 0.69\n"
     ]
    }
   ],
   "source": [
    "y_pred_test = rfr.predict(x_test_scaler)\n",
    "\n",
    "rfr_mse_test = np.round(mean_squared_error(y_test, y_pred_test), 2)\n",
    "rfr_rmse_test = np.round(math.sqrt(rfr_mse_test), 2)\n",
    "rfr_mae_test = np.round(mean_absolute_error(y_test, y_pred_test), 2)\n",
    "rfr_r2_test = np.round(r2_score(y_test, y_pred_test), 2)\n",
    "\n",
    "print(\"MSE:\", rfr_mse_test)\n",
    "print(\"RMSE:\", rfr_rmse_test)\n",
    "print(\"MAE:\", rfr_mae_test)\n",
    "print(\"R2:\", rfr_r2_test)"
   ]
  },
  {
   "cell_type": "markdown",
   "id": "01df91d2",
   "metadata": {},
   "source": [
    "# Hyperparameter Tuning"
   ]
  },
  {
   "cell_type": "code",
   "execution_count": 12,
   "id": "690da825",
   "metadata": {},
   "outputs": [],
   "source": [
    "from sklearn.model_selection import GridSearchCV\n",
    "\n",
    "parameters = {\n",
    "    'n_estimators': [250, 500, 1000],\n",
    "    'max_depth': [16, 18, 22],          \n",
    "    'min_samples_split': [2, 5, 10],           \n",
    "    'min_samples_leaf': [1, 2, 4]       \n",
    "}\n",
    "\n",
    "reg = RandomForestRegressor()\n",
    "reg = GridSearchCV(reg, parameters, n_jobs = -1)"
   ]
  },
  {
   "cell_type": "code",
   "execution_count": 13,
   "id": "d13fe914",
   "metadata": {},
   "outputs": [
    {
     "data": {
      "text/html": [
       "<style>#sk-container-id-2 {color: black;}#sk-container-id-2 pre{padding: 0;}#sk-container-id-2 div.sk-toggleable {background-color: white;}#sk-container-id-2 label.sk-toggleable__label {cursor: pointer;display: block;width: 100%;margin-bottom: 0;padding: 0.3em;box-sizing: border-box;text-align: center;}#sk-container-id-2 label.sk-toggleable__label-arrow:before {content: \"▸\";float: left;margin-right: 0.25em;color: #696969;}#sk-container-id-2 label.sk-toggleable__label-arrow:hover:before {color: black;}#sk-container-id-2 div.sk-estimator:hover label.sk-toggleable__label-arrow:before {color: black;}#sk-container-id-2 div.sk-toggleable__content {max-height: 0;max-width: 0;overflow: hidden;text-align: left;background-color: #f0f8ff;}#sk-container-id-2 div.sk-toggleable__content pre {margin: 0.2em;color: black;border-radius: 0.25em;background-color: #f0f8ff;}#sk-container-id-2 input.sk-toggleable__control:checked~div.sk-toggleable__content {max-height: 200px;max-width: 100%;overflow: auto;}#sk-container-id-2 input.sk-toggleable__control:checked~label.sk-toggleable__label-arrow:before {content: \"▾\";}#sk-container-id-2 div.sk-estimator input.sk-toggleable__control:checked~label.sk-toggleable__label {background-color: #d4ebff;}#sk-container-id-2 div.sk-label input.sk-toggleable__control:checked~label.sk-toggleable__label {background-color: #d4ebff;}#sk-container-id-2 input.sk-hidden--visually {border: 0;clip: rect(1px 1px 1px 1px);clip: rect(1px, 1px, 1px, 1px);height: 1px;margin: -1px;overflow: hidden;padding: 0;position: absolute;width: 1px;}#sk-container-id-2 div.sk-estimator {font-family: monospace;background-color: #f0f8ff;border: 1px dotted black;border-radius: 0.25em;box-sizing: border-box;margin-bottom: 0.5em;}#sk-container-id-2 div.sk-estimator:hover {background-color: #d4ebff;}#sk-container-id-2 div.sk-parallel-item::after {content: \"\";width: 100%;border-bottom: 1px solid gray;flex-grow: 1;}#sk-container-id-2 div.sk-label:hover label.sk-toggleable__label {background-color: #d4ebff;}#sk-container-id-2 div.sk-serial::before {content: \"\";position: absolute;border-left: 1px solid gray;box-sizing: border-box;top: 0;bottom: 0;left: 50%;z-index: 0;}#sk-container-id-2 div.sk-serial {display: flex;flex-direction: column;align-items: center;background-color: white;padding-right: 0.2em;padding-left: 0.2em;position: relative;}#sk-container-id-2 div.sk-item {position: relative;z-index: 1;}#sk-container-id-2 div.sk-parallel {display: flex;align-items: stretch;justify-content: center;background-color: white;position: relative;}#sk-container-id-2 div.sk-item::before, #sk-container-id-2 div.sk-parallel-item::before {content: \"\";position: absolute;border-left: 1px solid gray;box-sizing: border-box;top: 0;bottom: 0;left: 50%;z-index: -1;}#sk-container-id-2 div.sk-parallel-item {display: flex;flex-direction: column;z-index: 1;position: relative;background-color: white;}#sk-container-id-2 div.sk-parallel-item:first-child::after {align-self: flex-end;width: 50%;}#sk-container-id-2 div.sk-parallel-item:last-child::after {align-self: flex-start;width: 50%;}#sk-container-id-2 div.sk-parallel-item:only-child::after {width: 0;}#sk-container-id-2 div.sk-dashed-wrapped {border: 1px dashed gray;margin: 0 0.4em 0.5em 0.4em;box-sizing: border-box;padding-bottom: 0.4em;background-color: white;}#sk-container-id-2 div.sk-label label {font-family: monospace;font-weight: bold;display: inline-block;line-height: 1.2em;}#sk-container-id-2 div.sk-label-container {text-align: center;}#sk-container-id-2 div.sk-container {/* jupyter's `normalize.less` sets `[hidden] { display: none; }` but bootstrap.min.css set `[hidden] { display: none !important; }` so we also need the `!important` here to be able to override the default hidden behavior on the sphinx rendered scikit-learn.org. See: https://github.com/scikit-learn/scikit-learn/issues/21755 */display: inline-block !important;position: relative;}#sk-container-id-2 div.sk-text-repr-fallback {display: none;}</style><div id=\"sk-container-id-2\" class=\"sk-top-container\"><div class=\"sk-text-repr-fallback\"><pre>GridSearchCV(estimator=RandomForestRegressor(), n_jobs=-1,\n",
       "             param_grid={&#x27;max_depth&#x27;: [16, 18, 22],\n",
       "                         &#x27;min_samples_leaf&#x27;: [1, 2, 4],\n",
       "                         &#x27;min_samples_split&#x27;: [2, 5, 10],\n",
       "                         &#x27;n_estimators&#x27;: [250, 500, 1000]})</pre><b>In a Jupyter environment, please rerun this cell to show the HTML representation or trust the notebook. <br />On GitHub, the HTML representation is unable to render, please try loading this page with nbviewer.org.</b></div><div class=\"sk-container\" hidden><div class=\"sk-item sk-dashed-wrapped\"><div class=\"sk-label-container\"><div class=\"sk-label sk-toggleable\"><input class=\"sk-toggleable__control sk-hidden--visually\" id=\"sk-estimator-id-2\" type=\"checkbox\" ><label for=\"sk-estimator-id-2\" class=\"sk-toggleable__label sk-toggleable__label-arrow\">GridSearchCV</label><div class=\"sk-toggleable__content\"><pre>GridSearchCV(estimator=RandomForestRegressor(), n_jobs=-1,\n",
       "             param_grid={&#x27;max_depth&#x27;: [16, 18, 22],\n",
       "                         &#x27;min_samples_leaf&#x27;: [1, 2, 4],\n",
       "                         &#x27;min_samples_split&#x27;: [2, 5, 10],\n",
       "                         &#x27;n_estimators&#x27;: [250, 500, 1000]})</pre></div></div></div><div class=\"sk-parallel\"><div class=\"sk-parallel-item\"><div class=\"sk-item\"><div class=\"sk-label-container\"><div class=\"sk-label sk-toggleable\"><input class=\"sk-toggleable__control sk-hidden--visually\" id=\"sk-estimator-id-3\" type=\"checkbox\" ><label for=\"sk-estimator-id-3\" class=\"sk-toggleable__label sk-toggleable__label-arrow\">estimator: RandomForestRegressor</label><div class=\"sk-toggleable__content\"><pre>RandomForestRegressor()</pre></div></div></div><div class=\"sk-serial\"><div class=\"sk-item\"><div class=\"sk-estimator sk-toggleable\"><input class=\"sk-toggleable__control sk-hidden--visually\" id=\"sk-estimator-id-4\" type=\"checkbox\" ><label for=\"sk-estimator-id-4\" class=\"sk-toggleable__label sk-toggleable__label-arrow\">RandomForestRegressor</label><div class=\"sk-toggleable__content\"><pre>RandomForestRegressor()</pre></div></div></div></div></div></div></div></div></div></div>"
      ],
      "text/plain": [
       "GridSearchCV(estimator=RandomForestRegressor(), n_jobs=-1,\n",
       "             param_grid={'max_depth': [16, 18, 22],\n",
       "                         'min_samples_leaf': [1, 2, 4],\n",
       "                         'min_samples_split': [2, 5, 10],\n",
       "                         'n_estimators': [250, 500, 1000]})"
      ]
     },
     "execution_count": 13,
     "metadata": {},
     "output_type": "execute_result"
    }
   ],
   "source": [
    "reg.fit(x_train_scaler, y_train)"
   ]
  },
  {
   "cell_type": "code",
   "execution_count": 25,
   "id": "55a82456",
   "metadata": {},
   "outputs": [
    {
     "name": "stdout",
     "output_type": "stream",
     "text": [
      "MSE: 926210920.61\n",
      "RMSE: 30433.71\n",
      "MAE: 19754.37\n",
      "R2: 0.93\n"
     ]
    }
   ],
   "source": [
    "reg_y_pred_train = reg.predict(x_train_scaler)\n",
    "\n",
    "reg_mse_train = np.round(mean_squared_error(y_train, reg_y_pred_train), 2)\n",
    "reg_rmse_train = np.round(math.sqrt(reg_mse_train), 2)\n",
    "reg_mae_train = np.round(mean_absolute_error(y_train, reg_y_pred_train), 2)\n",
    "reg_r2_train = np.round(r2_score(y_train, reg_y_pred_train), 2)\n",
    "\n",
    "print(\"MSE:\", reg_mse_train)\n",
    "print(\"RMSE:\", reg_rmse_train)\n",
    "print(\"MAE:\", reg_mae_train)\n",
    "print(\"R2:\", reg_r2_train)"
   ]
  },
  {
   "cell_type": "code",
   "execution_count": 26,
   "id": "c7020795",
   "metadata": {},
   "outputs": [
    {
     "name": "stdout",
     "output_type": "stream",
     "text": [
      "MSE: 3558601579.03\n",
      "RMSE: 59654.02\n",
      "MAE: 43977.25\n",
      "R2: 0.69\n"
     ]
    }
   ],
   "source": [
    "reg_y_pred_test = reg.predict(x_test_scaler)\n",
    "\n",
    "reg_mse_test = np.round(mean_squared_error(y_test, reg_y_pred_test), 2)\n",
    "reg_rmse_test = np.round(math.sqrt(reg_mse_test), 2)\n",
    "reg_mae_test = np.round(mean_absolute_error(y_test, reg_y_pred_test), 2)\n",
    "reg_r2_test = np.round(r2_score(y_test, reg_y_pred_test), 2)\n",
    "\n",
    "print(\"MSE:\", reg_mse_test)\n",
    "print(\"RMSE:\", reg_rmse_test)\n",
    "print(\"MAE:\", reg_mae_test)\n",
    "print(\"R2:\", reg_r2_test)"
   ]
  },
  {
   "cell_type": "code",
   "execution_count": 19,
   "id": "9e0daacf",
   "metadata": {},
   "outputs": [
    {
     "data": {
      "text/plain": [
       "{'max_depth': 16,\n",
       " 'min_samples_leaf': 2,\n",
       " 'min_samples_split': 2,\n",
       " 'n_estimators': 500}"
      ]
     },
     "execution_count": 19,
     "metadata": {},
     "output_type": "execute_result"
    }
   ],
   "source": [
    "reg.best_params_"
   ]
  },
  {
   "cell_type": "markdown",
   "id": "a0890275",
   "metadata": {},
   "source": [
    "# Plotting the Result"
   ]
  },
  {
   "cell_type": "code",
   "execution_count": 37,
   "id": "5a1b42bb",
   "metadata": {},
   "outputs": [
    {
     "data": {
      "text/plain": [
       "Text(0.5, 1.0, 'Actual vs Predicted')"
      ]
     },
     "execution_count": 37,
     "metadata": {},
     "output_type": "execute_result"
    },
    {
     "data": {
      "image/png": "[encoded data removed]",
      "text/plain": [
       "<Figure size 1500x1000 with 1 Axes>"
      ]
     },
     "metadata": {},
     "output_type": "display_data"
    }
   ],
   "source": [
    "import matplotlib.pyplot as plt\n",
    "\n",
    "plt.figure(figsize = (15, 10))\n",
    "plt.scatter(y_test, y_pred_test)\n",
    "plt.xlabel('Actual')\n",
    "plt.ylabel('Predicted')\n",
    "\n",
    "plt.title('Actual vs Predicted')"
   ]
  },
  {
   "cell_type": "code",
   "execution_count": null,
   "id": "23fe5e36",
   "metadata": {},
   "outputs": [],
   "source": []
  }
 ],
 "metadata": {
  "kernelspec": {
   "display_name": "Python 3 (ipykernel)",
   "language": "python",
   "name": "python3"
  },
  "language_info": {
   "codemirror_mode": {
    "name": "ipython",
    "version": 3
   },
   "file_extension": ".py",
   "mimetype": "text/x-python",
   "name": "python",
   "nbconvert_exporter": "python",
   "pygments_lexer": "ipython3",
   "version": "3.11.4"
  }
 },
 "nbformat": 4,
 "nbformat_minor": 5
}
